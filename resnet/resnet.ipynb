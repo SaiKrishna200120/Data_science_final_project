{
  "nbformat": 4,
  "nbformat_minor": 0,
  "metadata": {
    "colab": {
      "provenance": []
    },
    "kernelspec": {
      "name": "python3",
      "display_name": "Python 3"
    },
    "language_info": {
      "name": "python"
    }
  },
  "cells": [
    {
      "cell_type": "markdown",
      "source": [
        "# resnet training"
      ],
      "metadata": {
        "id": "79dBfUMUDX0b"
      }
    },
    {
      "cell_type": "markdown",
      "source": [
        "imports and setups\n"
      ],
      "metadata": {
        "id": "Tt0cVasADZsg"
      }
    },
    {
      "cell_type": "code",
      "execution_count": null,
      "metadata": {
        "id": "2zAvwATRDTfC"
      },
      "outputs": [],
      "source": [
        "# libaraies\n",
        "import torch\n",
        "import torch.nn as nn\n",
        "import torch.nn.functional as F\n",
        "import torch.optim as optim\n",
        "import torchvision\n",
        "import torchvision.transforms as transforms\n",
        "import matplotlib.pyplot as plt\n",
        "import numpy as np\n",
        "import time\n",
        "import os\n",
        "import csv\n",
        "import pandas as pd\n",
        "import seaborn as sns\n",
        "from tqdm import tqdm\n",
        "from datetime import datetime\n",
        "from sklearn.metrics import confusion_matrix, precision_recall_fscore_support, classification_report, roc_curve, auc\n",
        "from ptflops import get_model_complexity_info\n",
        "\n",
        "# Device configuration - need to use GPU for decent speed\n",
        "device = torch.device('cuda' if torch.cuda.is_available() else 'cpu')\n",
        "print(f\"Using device: {device}\")\n",
        "if device.type == 'cpu':\n",
        "    print(\"WARNING: Training on CPU will be very slow! Consider using Colab with GPU runtime.\")\n",
        "\n",
        "# Hyperparameters - feel free to tweak these\n",
        "# Tried a bunch of learning rates - 0.1 seems to work best with the step scheduler\n",
        "num_epochs = 100  # probably won't need this many but just in case\n",
        "batch_size = 128  # sweet spot for my 1060 GPU\n",
        "learning_rate = 0.1  # SGD needs higher learning rate than Adam"
      ]
    }
  ]
}
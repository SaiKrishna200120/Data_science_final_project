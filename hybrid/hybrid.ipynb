{
  "nbformat": 4,
  "nbformat_minor": 0,
  "metadata": {
    "colab": {
      "provenance": []
    },
    "kernelspec": {
      "name": "python3",
      "display_name": "Python 3"
    },
    "language_info": {
      "name": "python"
    }
  },
  "cells": [
    {
      "cell_type": "markdown",
      "source": [
        "# hybrid model trainig"
      ],
      "metadata": {
        "id": "L4LH5j7yESSV"
      }
    },
    {
      "cell_type": "markdown",
      "source": [
        "imports and setup\n"
      ],
      "metadata": {
        "id": "tXc09F-HESZL"
      }
    },
    {
      "cell_type": "code",
      "execution_count": null,
      "metadata": {
        "id": "QyKnYXmvEMsJ"
      },
      "outputs": [],
      "source": [
        "!pip install ptflops\n",
        "import torch\n",
        "import torch.nn as nn\n",
        "import torch.nn.functional as F\n",
        "import torch.optim as optim\n",
        "from torch.optim.lr_scheduler import CosineAnnealingLR\n",
        "from torch.utils.data import DataLoader\n",
        "import torchvision\n",
        "import torchvision.transforms as transforms\n",
        "from torchvision.transforms import RandAugment\n",
        "import matplotlib.pyplot as plt\n",
        "import numpy as np\n",
        "import time\n",
        "import os\n",
        "import csv\n",
        "import pandas as pd\n",
        "import seaborn as sns\n",
        "from datetime import datetime\n",
        "from tqdm import tqdm\n",
        "from sklearn.metrics import confusion_matrix, precision_recall_fscore_support, classification_report, roc_curve, auc\n",
        "from ptflops import get_model_complexity_info\n",
        "\n",
        "# NOTE TO SELF: Need to revisit the architecture params later for better perf\n",
        "\n",
        "torch.manual_seed(42)\n",
        "device = torch.device(\"cuda\" if torch.cuda.is_available() else \"cpu\")\n",
        "print(f\"Using device: {device}\")"
      ]
    }
  ]
}
{
  "nbformat": 4,
  "nbformat_minor": 0,
  "metadata": {
    "colab": {
      "provenance": [],
      "gpuType": "T4"
    },
    "kernelspec": {
      "name": "python3",
      "display_name": "Python 3"
    },
    "language_info": {
      "name": "python"
    },
    "accelerator": "GPU"
  },
  "cells": [
    {
      "cell_type": "markdown",
      "source": [
        "# VIT training from scartch\n"
      ],
      "metadata": {
        "id": "CSDsCG9XXyTi"
      }
    },
    {
      "cell_type": "markdown",
      "source": [
        "**installing missing libaraies**"
      ],
      "metadata": {
        "id": "35pnluANy7Nz"
      }
    },
    {
      "cell_type": "code",
      "source": [
        "!pip install ptflops"
      ],
      "metadata": {
        "colab": {
          "base_uri": "https://localhost:8080/"
        },
        "id": "91HpEKn4yyb1",
        "outputId": "1f51369e-2cbd-468a-d11b-437c0eababf6"
      },
      "execution_count": null,
      "outputs": [
        {
          "output_type": "stream",
          "name": "stdout",
          "text": [
            "Collecting ptflops\n",
            "  Downloading ptflops-0.7.4-py3-none-any.whl.metadata (9.4 kB)\n",
            "Requirement already satisfied: torch>=2.0 in /usr/local/lib/python3.11/dist-packages (from ptflops) (2.6.0+cu124)\n",
            "Requirement already satisfied: filelock in /usr/local/lib/python3.11/dist-packages (from torch>=2.0->ptflops) (3.18.0)\n",
            "Requirement already satisfied: typing-extensions>=4.10.0 in /usr/local/lib/python3.11/dist-packages (from torch>=2.0->ptflops) (4.13.1)\n",
            "Requirement already satisfied: networkx in /usr/local/lib/python3.11/dist-packages (from torch>=2.0->ptflops) (3.4.2)\n",
            "Requirement already satisfied: jinja2 in /usr/local/lib/python3.11/dist-packages (from torch>=2.0->ptflops) (3.1.6)\n",
            "Requirement already satisfied: fsspec in /usr/local/lib/python3.11/dist-packages (from torch>=2.0->ptflops) (2025.3.2)\n",
            "Collecting nvidia-cuda-nvrtc-cu12==12.4.127 (from torch>=2.0->ptflops)\n",
            "  Downloading nvidia_cuda_nvrtc_cu12-12.4.127-py3-none-manylinux2014_x86_64.whl.metadata (1.5 kB)\n",
            "Collecting nvidia-cuda-runtime-cu12==12.4.127 (from torch>=2.0->ptflops)\n",
            "  Downloading nvidia_cuda_runtime_cu12-12.4.127-py3-none-manylinux2014_x86_64.whl.metadata (1.5 kB)\n",
            "Collecting nvidia-cuda-cupti-cu12==12.4.127 (from torch>=2.0->ptflops)\n",
            "  Downloading nvidia_cuda_cupti_cu12-12.4.127-py3-none-manylinux2014_x86_64.whl.metadata (1.6 kB)\n",
            "Collecting nvidia-cudnn-cu12==9.1.0.70 (from torch>=2.0->ptflops)\n",
            "  Downloading nvidia_cudnn_cu12-9.1.0.70-py3-none-manylinux2014_x86_64.whl.metadata (1.6 kB)\n",
            "Collecting nvidia-cublas-cu12==12.4.5.8 (from torch>=2.0->ptflops)\n",
            "  Downloading nvidia_cublas_cu12-12.4.5.8-py3-none-manylinux2014_x86_64.whl.metadata (1.5 kB)\n",
            "Collecting nvidia-cufft-cu12==11.2.1.3 (from torch>=2.0->ptflops)\n",
            "  Downloading nvidia_cufft_cu12-11.2.1.3-py3-none-manylinux2014_x86_64.whl.metadata (1.5 kB)\n",
            "Collecting nvidia-curand-cu12==10.3.5.147 (from torch>=2.0->ptflops)\n",
            "  Downloading nvidia_curand_cu12-10.3.5.147-py3-none-manylinux2014_x86_64.whl.metadata (1.5 kB)\n",
            "Collecting nvidia-cusolver-cu12==11.6.1.9 (from torch>=2.0->ptflops)\n",
            "  Downloading nvidia_cusolver_cu12-11.6.1.9-py3-none-manylinux2014_x86_64.whl.metadata (1.6 kB)\n",
            "Collecting nvidia-cusparse-cu12==12.3.1.170 (from torch>=2.0->ptflops)\n",
            "  Downloading nvidia_cusparse_cu12-12.3.1.170-py3-none-manylinux2014_x86_64.whl.metadata (1.6 kB)\n",
            "Requirement already satisfied: nvidia-cusparselt-cu12==0.6.2 in /usr/local/lib/python3.11/dist-packages (from torch>=2.0->ptflops) (0.6.2)\n",
            "Requirement already satisfied: nvidia-nccl-cu12==2.21.5 in /usr/local/lib/python3.11/dist-packages (from torch>=2.0->ptflops) (2.21.5)\n",
            "Requirement already satisfied: nvidia-nvtx-cu12==12.4.127 in /usr/local/lib/python3.11/dist-packages (from torch>=2.0->ptflops) (12.4.127)\n",
            "Collecting nvidia-nvjitlink-cu12==12.4.127 (from torch>=2.0->ptflops)\n",
            "  Downloading nvidia_nvjitlink_cu12-12.4.127-py3-none-manylinux2014_x86_64.whl.metadata (1.5 kB)\n",
            "Requirement already satisfied: triton==3.2.0 in /usr/local/lib/python3.11/dist-packages (from torch>=2.0->ptflops) (3.2.0)\n",
            "Requirement already satisfied: sympy==1.13.1 in /usr/local/lib/python3.11/dist-packages (from torch>=2.0->ptflops) (1.13.1)\n",
            "Requirement already satisfied: mpmath<1.4,>=1.1.0 in /usr/local/lib/python3.11/dist-packages (from sympy==1.13.1->torch>=2.0->ptflops) (1.3.0)\n",
            "Requirement already satisfied: MarkupSafe>=2.0 in /usr/local/lib/python3.11/dist-packages (from jinja2->torch>=2.0->ptflops) (3.0.2)\n",
            "Downloading ptflops-0.7.4-py3-none-any.whl (19 kB)\n",
            "Downloading nvidia_cublas_cu12-12.4.5.8-py3-none-manylinux2014_x86_64.whl (363.4 MB)\n",
            "\u001b[2K   \u001b[90m━━━━━━━━━━━━━━━━━━━━━━━━━━━━━━━━━━━━━━━━\u001b[0m \u001b[32m363.4/363.4 MB\u001b[0m \u001b[31m2.3 MB/s\u001b[0m eta \u001b[36m0:00:00\u001b[0m\n",
            "\u001b[?25hDownloading nvidia_cuda_cupti_cu12-12.4.127-py3-none-manylinux2014_x86_64.whl (13.8 MB)\n",
            "\u001b[2K   \u001b[90m━━━━━━━━━━━━━━━━━━━━━━━━━━━━━━━━━━━━━━━━\u001b[0m \u001b[32m13.8/13.8 MB\u001b[0m \u001b[31m64.9 MB/s\u001b[0m eta \u001b[36m0:00:00\u001b[0m\n",
            "\u001b[?25hDownloading nvidia_cuda_nvrtc_cu12-12.4.127-py3-none-manylinux2014_x86_64.whl (24.6 MB)\n",
            "\u001b[2K   \u001b[90m━━━━━━━━━━━━━━━━━━━━━━━━━━━━━━━━━━━━━━━━\u001b[0m \u001b[32m24.6/24.6 MB\u001b[0m \u001b[31m35.8 MB/s\u001b[0m eta \u001b[36m0:00:00\u001b[0m\n",
            "\u001b[?25hDownloading nvidia_cuda_runtime_cu12-12.4.127-py3-none-manylinux2014_x86_64.whl (883 kB)\n",
            "\u001b[2K   \u001b[90m━━━━━━━━━━━━━━━━━━━━━━━━━━━━━━━━━━━━━━━━\u001b[0m \u001b[32m883.7/883.7 kB\u001b[0m \u001b[31m57.7 MB/s\u001b[0m eta \u001b[36m0:00:00\u001b[0m\n",
            "\u001b[?25hDownloading nvidia_cudnn_cu12-9.1.0.70-py3-none-manylinux2014_x86_64.whl (664.8 MB)\n",
            "\u001b[2K   \u001b[90m━━━━━━━━━━━━━━━━━━━━━━━━━━━━━━━━━━━━━━━━\u001b[0m \u001b[32m664.8/664.8 MB\u001b[0m \u001b[31m2.8 MB/s\u001b[0m eta \u001b[36m0:00:00\u001b[0m\n",
            "\u001b[?25hDownloading nvidia_cufft_cu12-11.2.1.3-py3-none-manylinux2014_x86_64.whl (211.5 MB)\n",
            "\u001b[2K   \u001b[90m━━━━━━━━━━━━━━━━━━━━━━━━━━━━━━━━━━━━━━━━\u001b[0m \u001b[32m211.5/211.5 MB\u001b[0m \u001b[31m5.5 MB/s\u001b[0m eta \u001b[36m0:00:00\u001b[0m\n",
            "\u001b[?25hDownloading nvidia_curand_cu12-10.3.5.147-py3-none-manylinux2014_x86_64.whl (56.3 MB)\n",
            "\u001b[2K   \u001b[90m━━━━━━━━━━━━━━━━━━━━━━━━━━━━━━━━━━━━━━━━\u001b[0m \u001b[32m56.3/56.3 MB\u001b[0m \u001b[31m18.4 MB/s\u001b[0m eta \u001b[36m0:00:00\u001b[0m\n",
            "\u001b[?25hDownloading nvidia_cusolver_cu12-11.6.1.9-py3-none-manylinux2014_x86_64.whl (127.9 MB)\n",
            "\u001b[2K   \u001b[90m━━━━━━━━━━━━━━━━━━━━━━━━━━━━━━━━━━━━━━━━\u001b[0m \u001b[32m127.9/127.9 MB\u001b[0m \u001b[31m7.1 MB/s\u001b[0m eta \u001b[36m0:00:00\u001b[0m\n",
            "\u001b[?25hDownloading nvidia_cusparse_cu12-12.3.1.170-py3-none-manylinux2014_x86_64.whl (207.5 MB)\n",
            "\u001b[2K   \u001b[90m━━━━━━━━━━━━━━━━━━━━━━━━━━━━━━━━━━━━━━━━\u001b[0m \u001b[32m207.5/207.5 MB\u001b[0m \u001b[31m6.5 MB/s\u001b[0m eta \u001b[36m0:00:00\u001b[0m\n",
            "\u001b[?25hDownloading nvidia_nvjitlink_cu12-12.4.127-py3-none-manylinux2014_x86_64.whl (21.1 MB)\n",
            "\u001b[2K   \u001b[90m━━━━━━━━━━━━━━━━━━━━━━━━━━━━━━━━━━━━━━━━\u001b[0m \u001b[32m21.1/21.1 MB\u001b[0m \u001b[31m94.1 MB/s\u001b[0m eta \u001b[36m0:00:00\u001b[0m\n",
            "\u001b[?25hInstalling collected packages: nvidia-nvjitlink-cu12, nvidia-curand-cu12, nvidia-cufft-cu12, nvidia-cuda-runtime-cu12, nvidia-cuda-nvrtc-cu12, nvidia-cuda-cupti-cu12, nvidia-cublas-cu12, nvidia-cusparse-cu12, nvidia-cudnn-cu12, nvidia-cusolver-cu12, ptflops\n",
            "  Attempting uninstall: nvidia-nvjitlink-cu12\n",
            "    Found existing installation: nvidia-nvjitlink-cu12 12.5.82\n",
            "    Uninstalling nvidia-nvjitlink-cu12-12.5.82:\n",
            "      Successfully uninstalled nvidia-nvjitlink-cu12-12.5.82\n",
            "  Attempting uninstall: nvidia-curand-cu12\n",
            "    Found existing installation: nvidia-curand-cu12 10.3.6.82\n",
            "    Uninstalling nvidia-curand-cu12-10.3.6.82:\n",
            "      Successfully uninstalled nvidia-curand-cu12-10.3.6.82\n",
            "  Attempting uninstall: nvidia-cufft-cu12\n",
            "    Found existing installation: nvidia-cufft-cu12 11.2.3.61\n",
            "    Uninstalling nvidia-cufft-cu12-11.2.3.61:\n",
            "      Successfully uninstalled nvidia-cufft-cu12-11.2.3.61\n",
            "  Attempting uninstall: nvidia-cuda-runtime-cu12\n",
            "    Found existing installation: nvidia-cuda-runtime-cu12 12.5.82\n",
            "    Uninstalling nvidia-cuda-runtime-cu12-12.5.82:\n",
            "      Successfully uninstalled nvidia-cuda-runtime-cu12-12.5.82\n",
            "  Attempting uninstall: nvidia-cuda-nvrtc-cu12\n",
            "    Found existing installation: nvidia-cuda-nvrtc-cu12 12.5.82\n",
            "    Uninstalling nvidia-cuda-nvrtc-cu12-12.5.82:\n",
            "      Successfully uninstalled nvidia-cuda-nvrtc-cu12-12.5.82\n",
            "  Attempting uninstall: nvidia-cuda-cupti-cu12\n",
            "    Found existing installation: nvidia-cuda-cupti-cu12 12.5.82\n",
            "    Uninstalling nvidia-cuda-cupti-cu12-12.5.82:\n",
            "      Successfully uninstalled nvidia-cuda-cupti-cu12-12.5.82\n",
            "  Attempting uninstall: nvidia-cublas-cu12\n",
            "    Found existing installation: nvidia-cublas-cu12 12.5.3.2\n",
            "    Uninstalling nvidia-cublas-cu12-12.5.3.2:\n",
            "      Successfully uninstalled nvidia-cublas-cu12-12.5.3.2\n",
            "  Attempting uninstall: nvidia-cusparse-cu12\n",
            "    Found existing installation: nvidia-cusparse-cu12 12.5.1.3\n",
            "    Uninstalling nvidia-cusparse-cu12-12.5.1.3:\n",
            "      Successfully uninstalled nvidia-cusparse-cu12-12.5.1.3\n",
            "  Attempting uninstall: nvidia-cudnn-cu12\n",
            "    Found existing installation: nvidia-cudnn-cu12 9.3.0.75\n",
            "    Uninstalling nvidia-cudnn-cu12-9.3.0.75:\n",
            "      Successfully uninstalled nvidia-cudnn-cu12-9.3.0.75\n",
            "  Attempting uninstall: nvidia-cusolver-cu12\n",
            "    Found existing installation: nvidia-cusolver-cu12 11.6.3.83\n",
            "    Uninstalling nvidia-cusolver-cu12-11.6.3.83:\n",
            "      Successfully uninstalled nvidia-cusolver-cu12-11.6.3.83\n",
            "Successfully installed nvidia-cublas-cu12-12.4.5.8 nvidia-cuda-cupti-cu12-12.4.127 nvidia-cuda-nvrtc-cu12-12.4.127 nvidia-cuda-runtime-cu12-12.4.127 nvidia-cudnn-cu12-9.1.0.70 nvidia-cufft-cu12-11.2.1.3 nvidia-curand-cu12-10.3.5.147 nvidia-cusolver-cu12-11.6.1.9 nvidia-cusparse-cu12-12.3.1.170 nvidia-nvjitlink-cu12-12.4.127 ptflops-0.7.4\n"
          ]
        }
      ]
    },
    {
      "cell_type": "markdown",
      "source": [
        "**Importing libaries**"
      ],
      "metadata": {
        "id": "VyGBuU81YGU2"
      }
    },
    {
      "cell_type": "code",
      "execution_count": null,
      "metadata": {
        "colab": {
          "base_uri": "https://localhost:8080/"
        },
        "id": "-pTwQl3YXBxj",
        "outputId": "a125447a-b8a3-4011-f451-b298b0b58fdb"
      },
      "outputs": [
        {
          "output_type": "stream",
          "name": "stdout",
          "text": [
            "Using device: cuda\n"
          ]
        }
      ],
      "source": [
        "# Importing and setups\n",
        "!pip install ptflops\n",
        "import os\n",
        "import numpy as np\n",
        "import matplotlib.pyplot as plt\n",
        "from tqdm import tqdm\n",
        "import time\n",
        "import pandas as pd\n",
        "import seaborn as sns\n",
        "from sklearn.metrics import confusion_matrix, precision_recall_fscore_support, classification_report, roc_curve, auc\n",
        "import csv\n",
        "from datetime import datetime\n",
        "import torch\n",
        "import torch.nn as nn\n",
        "import torch.nn.functional as F\n",
        "import torch.optim as optim\n",
        "from torch.optim.lr_scheduler import CosineAnnealingLR\n",
        "from torch.utils.data import DataLoader\n",
        "from torchvision import datasets, transforms\n",
        "from torchvision.utils import make_grid\n",
        "from ptflops import get_model_complexity_info\n",
        "\n",
        "# Set seeds for reproducibility\n",
        "seed = 42\n",
        "torch.manual_seed(seed)\n",
        "torch.cuda.manual_seed(seed)  # also need to set cuda seed\n",
        "np.random.seed(seed)\n",
        "torch.backends.cudnn.deterministic = True  # reproducible\n",
        "\n",
        "# Check for GPU\n",
        "device = torch.device('cuda' if torch.cuda.is_available() else 'cpu')\n",
        "print(f\"Using device: {device}\")\n",
        "if device.type == 'cpu':\n",
        "    print(\"WARNING: Training will be very slow without GPU!\")"
      ]
    },
    {
      "cell_type": "markdown",
      "source": [
        "**Preparing data**"
      ],
      "metadata": {
        "id": "5pBwFFIJZQ__"
      }
    },
    {
      "cell_type": "code",
      "source": [
        "# Data Preparation with Augmentation\n",
        "class CIFAR10DataModule:\n",
        "    def __init__(self, batch_size=128, num_workers=4):\n",
        "        self.batch_size = batch_size\n",
        "        self.num_workers = num_workers\n",
        "\n",
        "        # CIFAR10 normalization values - DON'T CHANGE\n",
        "        self.mean = (0.4914, 0.4822, 0.4465)\n",
        "        self.std = (0.2470, 0.2435, 0.2616)\n",
        "\n",
        "        # Define transformations\n",
        "        self.train_transform = transforms.Compose([\n",
        "            transforms.RandomCrop(32, padding=4),\n",
        "            transforms.RandomHorizontalFlip(),  # standard augmentation\n",
        "            transforms.RandAugment(num_ops=2, magnitude=9),  # tried 3 ops but too aggressive\n",
        "            transforms.ToTensor(),\n",
        "            transforms.Normalize(self.mean, self.std)\n",
        "        ])\n",
        "\n",
        "        # No augmentation for test set\n",
        "        self.test_transform = transforms.Compose([\n",
        "            transforms.ToTensor(),\n",
        "            transforms.Normalize(self.mean, self.std)\n",
        "        ])\n",
        "\n",
        "    def setup(self):\n",
        "        # Download datasets\n",
        "        print(\"Setting up datasets...\")\n",
        "        self.train_dataset = datasets.CIFAR10(\n",
        "            root='./data',\n",
        "            train=True,\n",
        "            download=True,\n",
        "            transform=self.train_transform\n",
        "        )\n",
        "\n",
        "        self.val_dataset = datasets.CIFAR10(\n",
        "            root='./data',\n",
        "            train=False,\n",
        "            download=True,\n",
        "            transform=self.test_transform\n",
        "        )\n",
        "        print(f\"Loaded {len(self.train_dataset)} training and {len(self.val_dataset)} validation samples\")\n",
        "\n",
        "    def train_dataloader(self):\n",
        "        return DataLoader(\n",
        "            self.train_dataset,\n",
        "            batch_size=self.batch_size,\n",
        "            shuffle=True,  # important for training!\n",
        "            num_workers=self.num_workers,\n",
        "            pin_memory=True  # helps if using GPU\n",
        "        )\n",
        "\n",
        "    def val_dataloader(self):\n",
        "        return DataLoader(\n",
        "            self.val_dataset,\n",
        "            batch_size=self.batch_size,\n",
        "            shuffle=False,  # no need to shuffle for validation\n",
        "            num_workers=self.num_workers,\n",
        "            pin_memory=True\n",
        "        )"
      ],
      "metadata": {
        "id": "Zxy5SPYrXHb2"
      },
      "execution_count": null,
      "outputs": []
    },
    {
      "cell_type": "markdown",
      "source": [
        "**Patch embedding (breaking images into patches and assigning postion)**"
      ],
      "metadata": {
        "id": "VmAAgwHYaJ0e"
      }
    },
    {
      "cell_type": "code",
      "source": [
        "# Patch Embedding Layer\n",
        "class PatchEmbedding(nn.Module):\n",
        "    def __init__(self, img_size=32, patch_size=4, in_channels=3, embed_dim=192):\n",
        "        super().__init__()\n",
        "        self.img_size = img_size\n",
        "        self.patch_size = patch_size\n",
        "        self.n_patches = (img_size // patch_size) ** 2\n",
        "\n",
        "        # Originally used a linear layer here, but conv is more efficient and does the same thing\n",
        "        self.proj = nn.Conv2d(\n",
        "            in_channels,\n",
        "            embed_dim,\n",
        "            kernel_size=patch_size,\n",
        "            stride=patch_size\n",
        "        )\n",
        "\n",
        "    def forward(self, x):\n",
        "        # x shape: [B, C, H, W]\n",
        "        B, C, H, W = x.shape\n",
        "        assert H == self.img_size and W == self.img_size, \\\n",
        "            f\"Input image size ({H}*{W}) doesn't match expected size ({self.img_size}*{self.img_size})\"\n",
        "\n",
        "        # [B, C, H, W] -> [B, E, H/P, W/P] -> [B, E, (H/P)*(W/P)] -> [B, (H/P)*(W/P), E]\n",
        "        x = self.proj(x)  # [B, E, H/P, W/P]\n",
        "        x = x.flatten(2)  # [B, E, (H/P)*(W/P)]\n",
        "        x = x.transpose(1, 2)  # [B, (H/P)*(W/P), E]\n",
        "\n",
        "        return x"
      ],
      "metadata": {
        "id": "HleokvT5XJdM"
      },
      "execution_count": null,
      "outputs": []
    },
    {
      "cell_type": "markdown",
      "source": [
        "*Multi Head Attention*\n",
        "\n"
      ],
      "metadata": {
        "id": "9nAPpXXJby9p"
      }
    },
    {
      "cell_type": "code",
      "source": [
        "# Multi-Head Self-Attention\n",
        "class MultiHeadSelfAttention(nn.Module):\n",
        "    def __init__(self, embed_dim=192, num_heads=8, dropout=0.1): # 192/8 = 24 per head\n",
        "        super().__init__()\n",
        "        self.embed_dim = embed_dim\n",
        "        self.num_heads = num_heads\n",
        "        self.head_dim = embed_dim // num_heads\n",
        "\n",
        "        # Double-check dimensions\n",
        "        assert self.head_dim * num_heads == embed_dim, \\\n",
        "            f\"embed_dim {embed_dim} must be divisible by num_heads {num_heads}\"\n",
        "\n",
        "        # Combined QKV projections\n",
        "        self.qkv = nn.Linear(embed_dim, embed_dim * 3)\n",
        "        self.proj = nn.Linear(embed_dim, embed_dim)\n",
        "        self.attn_dropout = nn.Dropout(dropout)\n",
        "        self.proj_dropout = nn.Dropout(dropout)\n",
        "\n",
        "\n",
        "\n",
        "    def forward(self, x):\n",
        "        # x shape: [B, N, E] - B=batch, N=sequence_length, E=embedding_dim\n",
        "        B, N, E = x.shape\n",
        "\n",
        "        # Project to Q, K, V and reshape for multi-head attention\n",
        "        # This is that fancy reshape for multi-head attention\n",
        "        qkv = self.qkv(x).reshape(B, N, 3, self.num_heads, self.head_dim).permute(2, 0, 3, 1, 4)\n",
        "        q, k, v = qkv[0], qkv[1], qkv[2]  # [B, H, N, D] - H=heads, D=head_dim\n",
        "\n",
        "        # Scaled dot-product attention\n",
        "        # The scaling is super important - training dies without it\n",
        "        attn = (q @ k.transpose(-2, -1)) * (1.0 / np.sqrt(self.head_dim))  # [B, H, N, N]\n",
        "        attn = F.softmax(attn, dim=-1)\n",
        "        attn = self.attn_dropout(attn)  # helps generalization\n",
        "\n",
        "        # Apply attention to values\n",
        "        x = (attn @ v).transpose(1, 2).reshape(B, N, E)  # [B, N, E]\n",
        "        x = self.proj(x)  # final projection\n",
        "        x = self.proj_dropout(x)\n",
        "\n",
        "        return x"
      ],
      "metadata": {
        "id": "D4psZZhRXLll"
      },
      "execution_count": null,
      "outputs": []
    },
    {
      "cell_type": "markdown",
      "source": [
        "**Multi Layer Preceptron**"
      ],
      "metadata": {
        "id": "nUwW3haNcA4_"
      }
    },
    {
      "cell_type": "code",
      "source": [
        "# MLP Block\n",
        "class MLP(nn.Module):\n",
        "    def __init__(self, in_features, hidden_features, out_features, dropout=0.1):\n",
        "        super().__init__()\n",
        "        self.fc1 = nn.Linear(in_features, hidden_features)\n",
        "        # GELU Better than ReLU for transformers\n",
        "        self.act = nn.GELU()\n",
        "        self.fc2 = nn.Linear(hidden_features, out_features)\n",
        "        self.dropout = nn.Dropout(dropout)\n",
        "\n",
        "    def forward(self, x):\n",
        "        x = self.fc1(x)\n",
        "        x = self.act(x)\n",
        "        x = self.dropout(x)\n",
        "        x = self.fc2(x)\n",
        "        x = self.dropout(x)  # second dropout seems to help\n",
        "        return x"
      ],
      "metadata": {
        "id": "S6WalmqXXSdh"
      },
      "execution_count": null,
      "outputs": []
    },
    {
      "cell_type": "markdown",
      "source": [
        "**Encoder only tranformer**"
      ],
      "metadata": {
        "id": "orcY4vyDc4NT"
      }
    },
    {
      "cell_type": "code",
      "source": [
        "# Transformer Encoder Block\n",
        "class TransformerBlock(nn.Module):\n",
        "    def __init__(self, embed_dim=192, num_heads=8, mlp_ratio=4.0, dropout=0.1):\n",
        "        super().__init__()\n",
        "        self.norm1 = nn.LayerNorm(embed_dim)\n",
        "        self.attn = MultiHeadSelfAttention(embed_dim, num_heads, dropout)\n",
        "        self.norm2 = nn.LayerNorm(embed_dim)\n",
        "        self.mlp = MLP(\n",
        "            in_features=embed_dim,\n",
        "            hidden_features=int(embed_dim * mlp_ratio),  # the ratio matters!\n",
        "            out_features=embed_dim,\n",
        "            dropout=dropout\n",
        "        )\n",
        "        # NOTE: we're using pre-norm formulation\n",
        "\n",
        "    def forward(self, x):\n",
        "        # Pre-norm formulation - more stable, can train deeper networks\n",
        "        # x + sublayer(norm(x)) instead of norm(x + sublayer(x))\n",
        "        x = x + self.attn(self.norm1(x))\n",
        "        x = x + self.mlp(self.norm2(x))\n",
        "        return x"
      ],
      "metadata": {
        "id": "NPPGnslKXVEP"
      },
      "execution_count": null,
      "outputs": []
    },
    {
      "cell_type": "markdown",
      "source": [
        "**Complete model putting everything together**\n"
      ],
      "metadata": {
        "id": "QjGhkcZIey1c"
      }
    },
    {
      "cell_type": "code",
      "source": [
        "# Complete Vision Transformer Model\n",
        "class VisionTransformer(nn.Module):\n",
        "    def __init__(\n",
        "        self,\n",
        "        img_size=32,\n",
        "        patch_size=4,  # 4x4 patches for CIFAR ie(32^2//4^2 == 64 tokens)\n",
        "        in_channels=3, # RGB channel\n",
        "        num_classes=10,# number of expected outputs\n",
        "        embed_dim=192,  # tried 384 but too many params for CIFAR tend to overfit\n",
        "        depth=9,  # paper uses 12, but 9 is enough for CIFAR and 12 tend to overfit\n",
        "        num_heads=8,  # must divide embed_dim evenly 192/8 = 24\n",
        "        mlp_ratio=4.0,\n",
        "        dropout=0.1, # probablity of skiping connection ie 10 percent\n",
        "        embed_dropout=0.1  # separate dropout rate for embeddings\n",
        "    ):\n",
        "        super().__init__()\n",
        "        self.num_classes = num_classes\n",
        "        self.embed_dim = embed_dim\n",
        "        self.num_tokens = (img_size // patch_size) ** 2\n",
        "\n",
        "        # Patch embedding\n",
        "        self.patch_embed = PatchEmbedding(\n",
        "            img_size=img_size,\n",
        "            patch_size=patch_size,\n",
        "            in_channels=in_channels,\n",
        "            embed_dim=embed_dim\n",
        "        )\n",
        "\n",
        "        # Class token and position embeddings\n",
        "        self.cls_token = nn.Parameter(torch.zeros(1, 1, embed_dim))\n",
        "        # Position embeddings - could use sinusoidal but learned works fine\n",
        "        # postional embeddings are used because we have 8 multi head attention we need assign position for each vector\n",
        "        self.pos_embed = nn.Parameter(torch.zeros(1, self.num_tokens + 1, embed_dim))\n",
        "\n",
        "        # Initialize weights for faster convergence\n",
        "        nn.init.trunc_normal_(self.pos_embed, std=0.02)\n",
        "        nn.init.trunc_normal_(self.cls_token, std=0.02)\n",
        "\n",
        "        self.dropout = nn.Dropout(embed_dropout)\n",
        "\n",
        "        # Transformer blocks - this is the main part of the model\n",
        "        self.blocks = nn.ModuleList([\n",
        "            TransformerBlock(\n",
        "                embed_dim=embed_dim,\n",
        "                num_heads=num_heads,\n",
        "                mlp_ratio=mlp_ratio,\n",
        "                dropout=dropout\n",
        "            )\n",
        "            for _ in range(depth) # we just use for loop instead rewriting tranformer 8 times\n",
        "        ])\n",
        "\n",
        "        # Final normalization layer\n",
        "        self.norm = nn.LayerNorm(embed_dim)\n",
        "\n",
        "        # Classification head - just a linear layer\n",
        "        self.head = nn.Linear(embed_dim, num_classes)\n",
        "\n",
        "        # Initialize weights\n",
        "        self.apply(self._init_weights)\n",
        "\n",
        "        # How many params?\n",
        "        #print(f\"ViT params: {sum(p.numel() for p in self.parameters())}\")\n",
        "\n",
        "    def _init_weights(self, m):\n",
        "        # Weight initialization matters for transformers!\n",
        "        if isinstance(m, nn.Linear):\n",
        "            nn.init.trunc_normal_(m.weight, std=0.02)\n",
        "            if m.bias is not None:\n",
        "                nn.init.constant_(m.bias, 0)\n",
        "        elif isinstance(m, nn.LayerNorm):\n",
        "            nn.init.constant_(m.bias, 0)\n",
        "            nn.init.constant_(m.weight, 1.0)\n",
        "\n",
        "    def forward(self, x):\n",
        "        # x shape: [B, C, H, W]\n",
        "        B = x.shape[0]\n",
        "\n",
        "        # Create patch embeddings\n",
        "        x = self.patch_embed(x)  # [B, N, E]\n",
        "\n",
        "        # Add class token - used for final classification\n",
        "        cls_token = self.cls_token.expand(B, -1, -1)  # [B, 1, E]\n",
        "        x = torch.cat((cls_token, x), dim=1)  # [B, N+1, E]\n",
        "\n",
        "        # Add position embeddings and apply dropout\n",
        "        x = x + self.pos_embed  # broadcasting takes care of batch dim\n",
        "        x = self.dropout(x)\n",
        "\n",
        "        # Pass through transformer blocks\n",
        "        for i, block in enumerate(self.blocks):\n",
        "            # Could add intermediate supervision here?\n",
        "            # Tried it, didn't help much, so removed it\n",
        "            x = block(x)\n",
        "\n",
        "        # Apply final normalization\n",
        "        x = self.norm(x)\n",
        "\n",
        "        # Take class token for classification\n",
        "        # Could use pooling over all tokens but this works better\n",
        "        x = x[:, 0]  # just get CLS token\n",
        "\n",
        "        # Classification head\n",
        "        x = self.head(x)\n",
        "        # Could add an extra non-linearity here but linear seems fine\n",
        "\n",
        "        return x"
      ],
      "metadata": {
        "id": "3Am0fU15XWzJ"
      },
      "execution_count": null,
      "outputs": []
    },
    {
      "cell_type": "markdown",
      "source": [
        "**Training and eval**"
      ],
      "metadata": {
        "id": "o7d9jOJjjs5r"
      }
    },
    {
      "cell_type": "code",
      "source": [
        "# Training and Evaluation Utilities\n",
        "def train_one_epoch(model, train_loader, criterion, optimizer, scheduler, device):\n",
        "    model.train()  # set model to training mode\n",
        "    total_loss = 0.0\n",
        "    correct = 0\n",
        "    total = 0\n",
        "    batch_time = 0.0\n",
        "\n",
        "    # Progress bar\n",
        "    pbar = tqdm(train_loader, desc=\"Training\")\n",
        "    start_time = time.time()\n",
        "\n",
        "    for batch_idx, (data, target) in enumerate(pbar):\n",
        "        batch_start = time.time()\n",
        "        data, target = data.to(device), target.to(device)\n",
        "\n",
        "        # Forward pass\n",
        "        optimizer.zero_grad()  # clear gradients first\n",
        "        output = model(data)\n",
        "        loss = criterion(output, target)\n",
        "\n",
        "        # Backward pass\n",
        "        loss.backward()\n",
        "\n",
        "        # Could add gradient clipping here\n",
        "        # torch.nn.utils.clip_grad_norm_(model.parameters(), max_norm=1.0)\n",
        "        # But Adam seems to work fine without it\n",
        "\n",
        "        optimizer.step()\n",
        "\n",
        "        # Update learning rate - using per-step scheduler\n",
        "        if scheduler is not None:\n",
        "            scheduler.step()\n",
        "\n",
        "        # Track metrics\n",
        "        total_loss += loss.item() * data.size(0)\n",
        "        _, predicted = output.max(1)  # get predicted class\n",
        "        total += target.size(0)\n",
        "        correct += predicted.eq(target).sum().item()\n",
        "\n",
        "        # Track batch time\n",
        "        batch_end = time.time()\n",
        "        batch_time += (batch_end - batch_start)\n",
        "\n",
        "        # Update progress bar - helps to see how training is going\n",
        "        pbar.set_postfix({\n",
        "            \"loss\": f\"{loss.item():.4f}\",\n",
        "            \"acc\": f\"{100. * correct / total:.1f}%\",\n",
        "            #\"lr\": f\"{optimizer.param_groups[0]['lr']:.6f}\"  # uncomment for debugging\n",
        "        })\n",
        "\n",
        "\n",
        "    epoch_time = time.time() - start_time\n",
        "\n",
        "    return total_loss / len(train_loader.dataset), 100. * correct / total, epoch_time, batch_time / len(train_loader)\n",
        "\n",
        "\n",
        "def evaluate(model, val_loader, criterion, device, classes=None, full_metrics=False):\n",
        "    model.eval()  # set model to evaluation mode\n",
        "    total_loss = 0.0\n",
        "    correct = 0\n",
        "    total = 0\n",
        "    inference_times = []\n",
        "\n",
        "    # For confusion matrix and per-class metrics\n",
        "    all_targets = []\n",
        "    all_predictions = []\n",
        "\n",
        "    with torch.no_grad():  # no need to track gradients during evaluation\n",
        "        for data, target in tqdm(val_loader, desc=\"Evaluation\"):\n",
        "            data, target = data.to(device), target.to(device)\n",
        "\n",
        "            # Measure inference time\n",
        "            start_time = time.time()\n",
        "            output = model(data)\n",
        "            inference_time = time.time() - start_time\n",
        "            inference_times.append(inference_time)\n",
        "\n",
        "            loss = criterion(output, target)\n",
        "\n",
        "            # Track metrics\n",
        "            total_loss += loss.item() * data.size(0)\n",
        "            _, predicted = output.max(1)\n",
        "            total += target.size(0)\n",
        "            correct += predicted.eq(target).sum().item()\n",
        "\n",
        "            # Store targets and predictions for additional metrics\n",
        "            all_targets.extend(target.cpu().numpy())\n",
        "            all_predictions.extend(predicted.cpu().numpy())\n",
        "\n",
        "    # Compute aggregate metrics\n",
        "    avg_loss = total_loss / len(val_loader.dataset)\n",
        "    accuracy = 100. * correct / total\n",
        "    avg_inference_time = sum(inference_times) / len(inference_times)\n",
        "\n",
        "    results = {\n",
        "        'loss': avg_loss,\n",
        "        'accuracy': accuracy,\n",
        "        'inference_time_ms': avg_inference_time * 1000  # Convert to ms\n",
        "    }\n",
        "\n",
        "    # Add detailed metrics if requested\n",
        "    if full_metrics and classes:\n",
        "        # Calculate per-class precision, recall, f1-score\n",
        "        # Can't skip this computation - might seem slow but it's useful info\n",
        "        precision, recall, f1, support = precision_recall_fscore_support(\n",
        "            all_targets, all_predictions, labels=range(len(classes)), average=None\n",
        "        )\n",
        "\n",
        "        # Create confusion matrix\n",
        "        cm = confusion_matrix(all_targets, all_predictions, labels=range(len(classes)))\n",
        "\n",
        "        # Add to results\n",
        "        results['confusion_matrix'] = cm\n",
        "        results['per_class'] = {\n",
        "            'precision': precision,\n",
        "            'recall': recall,\n",
        "            'f1': f1,\n",
        "            'support': support\n",
        "        }\n",
        "        results['classes'] = classes\n",
        "        results['targets'] = all_targets\n",
        "        results['predictions'] = all_predictions\n",
        "\n",
        "    return results"
      ],
      "metadata": {
        "id": "RuzBjZRgXYcF"
      },
      "execution_count": null,
      "outputs": []
    },
    {
      "cell_type": "markdown",
      "source": [
        "**Metrics and Visualization**"
      ],
      "metadata": {
        "id": "AWt_Tvx1j1nV"
      }
    },
    {
      "cell_type": "code",
      "source": [
        "# Metrics and Visualization Functions\n",
        "def calculate_and_plot_metrics(model, val_loader, criterion, device, classes):\n",
        "    print(\"Calculating detailed metrics...\")\n",
        "    results = evaluate(model, val_loader, criterion, device, classes, full_metrics=True)\n",
        "\n",
        "    # results\n",
        "    cm = results['confusion_matrix']\n",
        "    per_class = results['per_class']\n",
        "    targets = results['targets']\n",
        "    predictions = results['predictions']\n",
        "\n",
        "    # 1. Plot confusion matrix\n",
        "    plt.figure(figsize=(10, 8))\n",
        "    # Tried various colormaps - Blues is most readable\n",
        "    sns.heatmap(cm, annot=True, fmt='d', cmap='Blues', xticklabels=classes, yticklabels=classes)\n",
        "    plt.xlabel('Predicted')\n",
        "    plt.ylabel('True')\n",
        "    plt.title('Confusion Matrix')\n",
        "    plt.tight_layout()\n",
        "    plt.savefig('vit_confusion_matrix.png', dpi=200)  # higher DPI for paper-quality\n",
        "\n",
        "    # 2. Plot per-class metrics\n",
        "    plt.figure(figsize=(12, 6))\n",
        "    x = np.arange(len(classes))\n",
        "    width = 0.2  # width of bars\n",
        "\n",
        "    # Plot bar chart with precision, recall, F1\n",
        "    plt.bar(x - width, per_class['precision'], width, label='Precision')\n",
        "    plt.bar(x, per_class['recall'], width, label='Recall')\n",
        "    plt.bar(x + width, per_class['f1'], width, label='F1-Score')\n",
        "\n",
        "    plt.xlabel('Classes')\n",
        "    plt.ylabel('Score')\n",
        "    plt.title('Per-Class Performance Metrics')\n",
        "    plt.xticks(x, classes, rotation=45)\n",
        "    plt.legend()\n",
        "    plt.tight_layout()\n",
        "    plt.savefig('vit_per_class_metrics.png')\n",
        "\n",
        "    # 3. Compute and plot ROC curves (one-vs-rest)\n",
        "    plt.figure(figsize=(12, 10))\n",
        "\n",
        "    # Prepare one-hot encoded targets for ROC\n",
        "    target_one_hot = np.zeros((len(targets), len(classes)))\n",
        "    for i, t in enumerate(targets):\n",
        "        target_one_hot[i, t] = 1\n",
        "\n",
        "    # Get probability outputs for all samples\n",
        "    # Need to rerun the model to get probabilities\n",
        "    all_probs = []\n",
        "    model.eval()\n",
        "    with torch.no_grad():\n",
        "        for data, _ in val_loader:\n",
        "            data = data.to(device)\n",
        "            outputs = model(data)\n",
        "            probs = F.softmax(outputs, dim=1).cpu().numpy()\n",
        "            all_probs.append(probs)\n",
        "\n",
        "    all_probs = np.vstack(all_probs)\n",
        "\n",
        "    # Plot ROC curve for each class\n",
        "    mean_auc = 0\n",
        "    for i, cls in enumerate(classes):\n",
        "        fpr, tpr, _ = roc_curve(target_one_hot[:, i], all_probs[:, i])\n",
        "        roc_auc = auc(fpr, tpr)\n",
        "        mean_auc += roc_auc\n",
        "        plt.plot(fpr, tpr, lw=2, label=f'{cls} (AUC = {roc_auc:.2f})')\n",
        "\n",
        "    mean_auc /= len(classes)\n",
        "\n",
        "    # Add diagonal line (random classifier)\n",
        "    plt.plot([0, 1], [0, 1], 'k--', lw=2)\n",
        "    plt.xlim([0.0, 1.0])\n",
        "    plt.ylim([0.0, 1.05])\n",
        "    plt.xlabel('False Positive Rate')\n",
        "    plt.ylabel('True Positive Rate')\n",
        "    plt.title(f'ROC Curves (Mean AUC = {mean_auc:.2f})')\n",
        "    plt.legend(loc=\"lower right\")\n",
        "    plt.tight_layout()\n",
        "    plt.savefig('vit_roc_curves.png')\n",
        "\n",
        "    # Return metrics for CSV export\n",
        "    return {\n",
        "        'accuracy': results['accuracy'],\n",
        "        'loss': results['loss'],\n",
        "        'inference_time_ms': results['inference_time_ms'],\n",
        "        'per_class_precision': per_class['precision'],\n",
        "        'per_class_recall': per_class['recall'],\n",
        "        'per_class_f1': per_class['f1'],\n",
        "        'mean_auc': mean_auc\n",
        "    }\n",
        "\n",
        "\n",
        "# Calculate model complexity\n",
        "def calculate_model_complexity(model, input_size=(3, 32, 32)):\n",
        "    print(\"Calculating model complexity...\")\n",
        "    macs, params = get_model_complexity_info(\n",
        "        model, input_size, as_strings=False, print_per_layer_stat=False\n",
        "    )\n",
        "\n",
        "    # Did you know? FLOPs ≈ 2 * MACs\n",
        "    # ptflops returns MACs, but papers usually report FLOPs\n",
        "    return {\n",
        "        'params': params,\n",
        "        'flops': macs * 2,  # Convert MACs to FLOPs\n",
        "        'params_millions': params / 1e6,\n",
        "        'flops_billions': macs * 2 / 1e9\n",
        "    }\n",
        "\n",
        "\n",
        "# Export metrics to CSV\n",
        "def export_metrics_to_csv(metrics, model_name='ViT', filename='model_metrics.csv'):\n",
        "    # Create directory if it doesn't exist\n",
        "    os.makedirs('metrics', exist_ok=True)\n",
        "\n",
        "    # Prepare CSV file path with timestamp\n",
        "    timestamp = datetime.now().strftime('%Y%m%d_%H%M%S')\n",
        "    filepath = f'metrics/{model_name}_{timestamp}.csv'\n",
        "\n",
        "    # Flatten nested dictionaries\n",
        "    flat_metrics = {}\n",
        "    for key, value in metrics.items():\n",
        "        if isinstance(value, dict):\n",
        "            for subkey, subvalue in value.items():\n",
        "                flat_metrics[f'{key}_{subkey}'] = subvalue\n",
        "        elif isinstance(value, np.ndarray):\n",
        "            for i, val in enumerate(value):\n",
        "                flat_metrics[f'{key}_{i}'] = val\n",
        "        else:\n",
        "            flat_metrics[key] = value\n",
        "\n",
        "    # Write to CSV\n",
        "    with open(filepath, 'w', newline='') as csvfile:\n",
        "        writer = csv.writer(csvfile)\n",
        "\n",
        "        # Write header\n",
        "        writer.writerow(['Metric', 'Value'])\n",
        "\n",
        "        # Write metrics\n",
        "        for key, value in flat_metrics.items():\n",
        "            writer.writerow([key, value])\n",
        "\n",
        "    print(f\"Metrics exported to {filepath}\")\n",
        "\n",
        "    # Also create a summary CSV for model comparison\n",
        "    # This is super handy when doing hyperparameter sweeps!\n",
        "    summary_path = 'metrics/model_comparison.csv'\n",
        "\n",
        "    # Check if summary file exists, create with header if not\n",
        "    file_exists = os.path.isfile(summary_path)\n",
        "    with open(summary_path, 'a', newline='') as csvfile:\n",
        "        writer = csv.writer(csvfile)\n",
        "\n",
        "        if not file_exists:\n",
        "            writer.writerow([\n",
        "                'Model', 'Accuracy', 'Loss', 'Params (M)', 'FLOPs (G)',\n",
        "                'Inference Time (ms)', 'Mean AUC', 'Training Time (s)'\n",
        "            ])\n",
        "\n",
        "\n",
        "        writer.writerow([\n",
        "            model_name,\n",
        "            metrics['accuracy'],\n",
        "            metrics['loss'],\n",
        "            metrics['complexity']['params_millions'],\n",
        "            metrics['complexity']['flops_billions'],\n",
        "            metrics['inference_time_ms'],\n",
        "            metrics['mean_auc'],\n",
        "            metrics['training_time']\n",
        "        ])\n",
        "\n",
        "    print(f\"Summary metrics added to {summary_path}\")"
      ],
      "metadata": {
        "id": "3PW5sLNjXe7L"
      },
      "execution_count": null,
      "outputs": []
    },
    {
      "cell_type": "markdown",
      "source": [
        "**Training function**"
      ],
      "metadata": {
        "id": "zYQmSl7CrgES"
      }
    },
    {
      "cell_type": "code",
      "source": [
        "# Main Training Function\n",
        "def train_vit_cifar10(epochs=100, batch_size=128, lr=1e-3, warmup_epochs=5, model_name='ViT'):\n",
        "    # Setup data\n",
        "    print(f\"\\n=== Setting up {model_name} training ===\")\n",
        "    print(f\"Epochs: {epochs}, Batch size: {batch_size}, LR: {lr}\")\n",
        "\n",
        "    data_module = CIFAR10DataModule(batch_size=batch_size)\n",
        "    data_module.setup()\n",
        "    train_loader = data_module.train_dataloader()\n",
        "    val_loader = data_module.val_dataloader()\n",
        "\n",
        "    # CIFAR-10 classes\n",
        "    classes = ('plane', 'car', 'bird', 'cat', 'deer',\n",
        "               'dog', 'frog', 'horse', 'ship', 'truck')\n",
        "\n",
        "    # Create model - this is the standard ViT config for CIFAR\n",
        "    model = VisionTransformer(\n",
        "        img_size=32,\n",
        "        patch_size=4,  # 4x4 patches, so 8x8=64 patches total\n",
        "        in_channels=3,\n",
        "        num_classes=10,\n",
        "        embed_dim=192,  # tried 384 but it was overkill\n",
        "        depth=9,\n",
        "        num_heads=8,  # 192 / 8 = 24 dim per head\n",
        "        mlp_ratio=4.0,\n",
        "        dropout=0.1,  # dropout helps a lot on CIFAR\n",
        "        embed_dropout=0.1\n",
        "    ).to(device)\n",
        "\n",
        "    # Count parameters\n",
        "    total_params = sum(p.numel() for p in model.parameters())\n",
        "    print(f\"Total parameters: {total_params:,}\")\n",
        "\n",
        "    # Calculate model complexity\n",
        "    complexity = calculate_model_complexity(model)\n",
        "    print(f\"FLOPs: {complexity['flops_billions']:.2f} G\")\n",
        "    print(f\"Parameters: {complexity['params_millions']:.2f} M\")\n",
        "\n",
        "    # Loss function\n",
        "    criterion = nn.CrossEntropyLoss()\n",
        "\n",
        "    # Optimizer\n",
        "    #  AdamW works better for transformers\n",
        "    optimizer = optim.AdamW(model.parameters(), lr=lr, weight_decay=0.05)\n",
        "\n",
        "    # Learning rate scheduler - cosine decay with warmup\n",
        "    # Warmup is crucial for transformer training stability\n",
        "    total_steps = len(train_loader) * epochs\n",
        "    warmup_steps = len(train_loader) * warmup_epochs\n",
        "\n",
        "    # Learning rate schedule\n",
        "    def lr_lambda(step):\n",
        "        # Linear warmup + cosine decay\n",
        "        if step < warmup_steps:\n",
        "            return float(step) / float(max(1, warmup_steps))\n",
        "        # Cosine annealing\n",
        "        return 0.5 * (1.0 + np.cos(np.pi * float(step - warmup_steps) / float(total_steps - warmup_steps)))\n",
        "\n",
        "    # Create scheduler\n",
        "    scheduler = torch.optim.lr_scheduler.LambdaLR(optimizer, lr_lambda)\n",
        "\n",
        "    # Training loop\n",
        "    print(\"\\n=== Starting training ===\")\n",
        "    best_acc = 0.0\n",
        "    train_losses, train_accs = [], []\n",
        "    val_losses, val_accs = [], []\n",
        "    epoch_times, batch_times = [], []\n",
        "    total_training_time = 0\n",
        "    lr_history = []\n",
        "\n",
        "    for epoch in range(epochs):\n",
        "        print(f\"\\nEpoch {epoch+1}/{epochs}\")\n",
        "\n",
        "        # Log learning rate\n",
        "        current_lr = optimizer.param_groups[0]['lr']\n",
        "        lr_history.append(current_lr)\n",
        "\n",
        "        # Train\n",
        "        train_loss, train_acc, epoch_time, avg_batch_time = train_one_epoch(\n",
        "            model, train_loader, criterion, optimizer, scheduler, device\n",
        "        )\n",
        "        train_losses.append(train_loss)\n",
        "        train_accs.append(train_acc)\n",
        "        epoch_times.append(epoch_time)\n",
        "        batch_times.append(avg_batch_time)\n",
        "        total_training_time += epoch_time\n",
        "\n",
        "        # Evaluate\n",
        "        val_results = evaluate(model, val_loader, criterion, device)\n",
        "        val_loss = val_results['loss']\n",
        "        val_acc = val_results['accuracy']\n",
        "        val_losses.append(val_loss)\n",
        "        val_accs.append(val_acc)\n",
        "\n",
        "        # Print metrics\n",
        "        print(f\"Train Loss: {train_loss:.4f}, Train Acc: {train_acc:.2f}%\")\n",
        "        print(f\"Val Loss: {val_loss:.4f}, Val Acc: {val_acc:.2f}%\")\n",
        "        print(f\"Epoch Time: {epoch_time:.2f}s, Avg Batch Time: {avg_batch_time*1000:.2f}ms\")\n",
        "        print(f\"Current LR: {current_lr:.6f}\")\n",
        "\n",
        "        # Save best model\n",
        "        if val_acc > best_acc:\n",
        "            best_acc = val_acc\n",
        "            torch.save(model.state_dict(), \"vit_cifar10_best.pth\")\n",
        "            print(f\"New best validation accuracy: {best_acc:.2f}%!\")\n",
        "            # Also save at specific checkpoints (optional)\n",
        "            #if val_acc > 90:\n",
        "            #    torch.save(model.state_dict(), f\"vit_cifar10_{val_acc:.1f}.pth\")\n",
        "\n",
        "        # Early stopping check after a reasonable number of epochs\n",
        "        # No need to train forever if we're already good\n",
        "        if epoch >= 50 and best_acc >= 90.0:\n",
        "            print(f\"Reached target accuracy of 90%. Stopping early!\")\n",
        "            break\n",
        "\n",
        "    print(f\"\\n=== Training complete ===\")\n",
        "    print(f\"Total training time: {total_training_time:.2f}s\")\n",
        "    print(f\"Best validation accuracy: {best_acc:.2f}%\")\n",
        "\n",
        "    # Plot final expanded training metrics\n",
        "    print(\"\\nGenerating final training plots...\")\n",
        "    plt.figure(figsize=(18, 12))\n",
        "\n",
        "    # 1. Loss curves\n",
        "    plt.subplot(2, 3, 1)\n",
        "    plt.plot(train_losses, label='Train Loss')\n",
        "    plt.plot(val_losses, label='Val Loss')\n",
        "    plt.xlabel('Epoch')\n",
        "    plt.ylabel('Loss')\n",
        "    plt.title('Loss Curves')\n",
        "    plt.legend()\n",
        "\n",
        "    # 2. Accuracy curves\n",
        "    plt.subplot(2, 3, 2)\n",
        "    plt.plot(train_accs, label='Train Accuracy')\n",
        "    plt.plot(val_accs, label='Val Accuracy')\n",
        "    plt.xlabel('Epoch')\n",
        "    plt.ylabel('Accuracy (%)')\n",
        "    plt.title('Accuracy Curves')\n",
        "    plt.legend()\n",
        "\n",
        "    # 3. Epoch times\n",
        "    plt.subplot(2, 3, 3)\n",
        "    plt.plot(epoch_times)\n",
        "    plt.xlabel('Epoch')\n",
        "    plt.ylabel('Time (s)')\n",
        "    plt.title('Epoch Training Time')\n",
        "\n",
        "    # 4. Batch times\n",
        "    plt.subplot(2, 3, 4)\n",
        "    plt.plot(batch_times)\n",
        "    plt.xlabel('Epoch')\n",
        "    plt.ylabel('Time (s)')\n",
        "    plt.title('Average Batch Processing Time')\n",
        "\n",
        "    # 5. Learning rate\n",
        "    plt.subplot(2, 3, 5)\n",
        "    plt.plot(lr_history)\n",
        "    plt.xlabel('Epoch')\n",
        "    plt.ylabel('Learning Rate')\n",
        "    plt.title('Learning Rate Schedule')\n",
        "    # Add grid for readability\n",
        "    plt.grid(alpha=0.3)\n",
        "\n",
        "    plt.tight_layout()\n",
        "    plt.savefig('vit_training_metrics.png')\n",
        "    plt.close()  # close to avoid display issues with multiple plots\n",
        "\n",
        "    # Load best model for final evaluation\n",
        "    print(\"\\nLoading best model for final evaluation...\")\n",
        "    model.load_state_dict(torch.load(\"vit_cifar10_best.pth\"))\n",
        "\n",
        "    # Calculate detailed metrics\n",
        "    detailed_metrics = calculate_and_plot_metrics(model, val_loader, criterion, device, classes)\n",
        "\n",
        "    # Prepare metrics for export\n",
        "    final_metrics = {\n",
        "        'accuracy': best_acc,\n",
        "        'loss': val_losses[-1],\n",
        "        'inference_time_ms': detailed_metrics['inference_time_ms'],\n",
        "        'training_time': total_training_time,\n",
        "        'epochs': len(train_losses),\n",
        "        'avg_epoch_time': sum(epoch_times) / len(epoch_times),\n",
        "        'avg_batch_time': sum(batch_times) / len(batch_times),\n",
        "        'complexity': complexity,\n",
        "        'mean_auc': detailed_metrics['mean_auc'],\n",
        "        'per_class': {\n",
        "            'precision': detailed_metrics['per_class_precision'],\n",
        "            'recall': detailed_metrics['per_class_recall'],\n",
        "            'f1': detailed_metrics['per_class_f1']\n",
        "        }\n",
        "    }\n",
        "\n",
        "    # Export metrics to CSV\n",
        "    export_metrics_to_csv(final_metrics, model_name)\n",
        "\n",
        "    print(f\"Best validation accuracy: {best_acc:.2f}%\")\n",
        "    return model, best_acc, final_metrics"
      ],
      "metadata": {
        "id": "M-gOm883Xiov"
      },
      "execution_count": null,
      "outputs": []
    },
    {
      "cell_type": "markdown",
      "source": [
        "**Visualize attention**"
      ],
      "metadata": {
        "id": "f2k_3Ee6rxpf"
      }
    },
    {
      "cell_type": "code",
      "source": [
        "# Attention Visualization Function\n",
        "def visualize_attention(model, dataloader, device, num_images=4):\n",
        "    # Get some test images\n",
        "    dataiter = iter(dataloader)\n",
        "    images, labels = next(dataiter)\n",
        "    images = images[:num_images].to(device)\n",
        "    labels = labels[:num_images]\n",
        "\n",
        "    # Get class names\n",
        "    classes = ('plane', 'car', 'bird', 'cat', 'deer',\n",
        "               'dog', 'frog', 'horse', 'ship', 'truck')\n",
        "\n",
        "    # Set model to eval mode\n",
        "    model.eval()\n",
        "\n",
        "\n",
        "    def get_attention_maps(x):\n",
        "        B = x.shape[0]\n",
        "        x = model.patch_embed(x)\n",
        "        cls_token = model.cls_token.expand(B, -1, -1)\n",
        "        x = torch.cat((cls_token, x), dim=1)\n",
        "        x = x + model.pos_embed\n",
        "        x = model.dropout(x)\n",
        "\n",
        "        # Pass through transformer blocks except the last one\n",
        "        for i, block in enumerate(model.blocks[:-1]):\n",
        "            x = block(x)\n",
        "\n",
        "        # Get attention from the last block\n",
        "        # We're interested in how the cls token attends to the patches\n",
        "        x = model.blocks[-1].norm1(x)  # apply LN first (pre-norm)\n",
        "        qkv = model.blocks[-1].attn.qkv(x).reshape(B, x.shape[1], 3, model.blocks[-1].attn.num_heads, model.blocks[-1].attn.head_dim).permute(2, 0, 3, 1, 4)\n",
        "        q, k, v = qkv[0], qkv[1], qkv[2]\n",
        "        attn = (q @ k.transpose(-2, -1)) * (1.0 / np.sqrt(model.blocks[-1].attn.head_dim))\n",
        "        attn = F.softmax(attn, dim=-1)\n",
        "\n",
        "        return attn\n",
        "\n",
        "    with torch.no_grad():\n",
        "        # Get model predictions\n",
        "        outputs = model(images)\n",
        "        _, predicted = torch.max(outputs, 1)\n",
        "\n",
        "        # Get attention maps\n",
        "        attentions = get_attention_maps(images)  # shape: [B, H, N, N]\n",
        "\n",
        "        # Extract attention from the CLS token to all patches\n",
        "        # Average over all heads for visualization\n",
        "        cls_attentions = attentions[:, :, 0, 1:].mean(1)  # shape: [B, N-1]\n",
        "\n",
        "    # Reshape attention maps to match the image patches\n",
        "    patch_size = 4\n",
        "    num_patches = 8  # 32 // 4 = 8\n",
        "\n",
        "    plt.figure(figsize=(16, 4 * num_images))\n",
        "\n",
        "    for i in range(num_images):\n",
        "        # Original image - need to denormalize\n",
        "        img = images[i].cpu().permute(1, 2, 0).numpy()\n",
        "        img = img * np.array([0.2470, 0.2435, 0.2616]) + np.array([0.4914, 0.4822, 0.4465])\n",
        "        img = np.clip(img, 0, 1)\n",
        "\n",
        "        # Attention map\n",
        "        attn_map = cls_attentions[i].reshape(num_patches, num_patches).cpu().numpy()\n",
        "\n",
        "        # Upsample the attention map to match the image size\n",
        "        # Simple nearest-neighbor upsampling\n",
        "        attn_map = np.repeat(np.repeat(attn_map, patch_size, axis=0), patch_size, axis=1)\n",
        "\n",
        "        # Color indicates attention strength\n",
        "        plt.subplot(num_images, 3, i*3 + 1)\n",
        "        plt.imshow(img)\n",
        "        plt.title(f\"Original: {classes[labels[i]]}\\nPredicted: {classes[predicted[i]]}\")\n",
        "        plt.axis('off')\n",
        "\n",
        "        plt.subplot(num_images, 3, i*3 + 2)\n",
        "        plt.imshow(attn_map)\n",
        "        plt.title(\"Attention Map\")\n",
        "        plt.axis('off')\n",
        "\n",
        "        plt.subplot(num_images, 3, i*3 + 3)\n",
        "        plt.imshow(img)\n",
        "        plt.imshow(attn_map, alpha=0.5, cmap='jet')  # overlay with some transparency\n",
        "        plt.title(\"Overlay\")\n",
        "        plt.axis('off')\n",
        "\n",
        "    plt.tight_layout()\n",
        "    plt.savefig('vit_attention_maps.png')\n",
        "    plt.close()  # close to avoid display issues"
      ],
      "metadata": {
        "id": "akw4szC_XnrC"
      },
      "execution_count": null,
      "outputs": []
    },
    {
      "cell_type": "markdown",
      "source": [
        "**Main Execution**"
      ],
      "metadata": {
        "id": "GGaMMV_pr6P0"
      }
    },
    {
      "cell_type": "code",
      "source": [
        "# Main Execution\n",
        "if __name__ == \"__main__\":\n",
        "    # Create models directory\n",
        "    os.makedirs('metrics', exist_ok=True)\n",
        "\n",
        "    # Train the model\n",
        "    # You can customize these hyperparameters\n",
        "    model, best_acc, metrics = train_vit_cifar10(\n",
        "        epochs=100,      # max epochs\n",
        "        batch_size=128,  # reduce if OOM\n",
        "        lr=1e-3,         # tried 5e-4 and 3e-3, this works best\n",
        "        warmup_epochs=5, # helps stabilize training\n",
        "        model_name='ViT' # for saving metrics\n",
        "    )\n",
        "\n",
        "    # Visualize attention if we did well\n",
        "    data_module = CIFAR10DataModule(batch_size=4)\n",
        "    data_module.setup()\n",
        "    val_loader = data_module.val_dataloader()\n",
        "\n",
        "    print(\"Visualizing attention maps\")\n",
        "    visualize_attention(model, val_loader, device)"
      ],
      "metadata": {
        "colab": {
          "base_uri": "https://localhost:8080/",
          "height": 1000
        },
        "id": "qfQy-CBrXrxU",
        "outputId": "803ba802-2d0e-4e0b-b998-7850c93c9bec"
      },
      "execution_count": null,
      "outputs": [
        {
          "metadata": {
            "tags": null
          },
          "name": "stdout",
          "output_type": "stream",
          "text": [
            "\n",
            "=== Setting up ViT training ===\n",
            "Epochs: 100, Batch size: 128, LR: 0.001\n",
            "Setting up datasets...\n"
          ]
        },
        {
          "metadata": {
            "tags": null
          },
          "name": "stderr",
          "output_type": "stream",
          "text": [
            "100%|██████████| 170M/170M [00:13<00:00, 12.7MB/s]\n"
          ]
        },
        {
          "metadata": {
            "tags": null
          },
          "name": "stdout",
          "output_type": "stream",
          "text": [
            "Loaded 50000 training and 10000 validation samples\n"
          ]
        },
        {
          "metadata": {
            "tags": null
          },
          "name": "stderr",
          "output_type": "stream",
          "text": [
            "/usr/local/lib/python3.11/dist-packages/torch/utils/data/dataloader.py:624: UserWarning: This DataLoader will create 4 worker processes in total. Our suggested max number of worker in current system is 2, which is smaller than what this DataLoader is going to create. Please be aware that excessive worker creation might get DataLoader running slow or even freeze, lower the worker number to avoid potential slowness/freeze if necessary.\n",
            "  warnings.warn(\n"
          ]
        },
        {
          "metadata": {
            "tags": null
          },
          "name": "stdout",
          "output_type": "stream",
          "text": [
            "Total parameters: 4,028,170\n",
            "Calculating model complexity...\n",
            "FLOPs: 0.52 G\n",
            "Parameters: 4.03 M\n",
            "\n",
            "=== Starting training ===\n",
            "\n",
            "Epoch 1/100\n"
          ]
        },
        {
          "metadata": {
            "tags": null
          },
          "name": "stderr",
          "output_type": "stream",
          "text": [
            "Training: 100%|██████████| 391/391 [00:53<00:00,  7.36it/s, loss=1.9729, acc=22.3%]\n",
            "Evaluation: 100%|██████████| 79/79 [00:04<00:00, 19.24it/s]\n"
          ]
        },
        {
          "metadata": {
            "tags": null
          },
          "name": "stdout",
          "output_type": "stream",
          "text": [
            "Train Loss: 2.0694, Train Acc: 22.25%\n",
            "Val Loss: 1.8627, Val Acc: 31.10%\n",
            "Epoch Time: 53.15s, Avg Batch Time: 125.45ms\n",
            "Current LR: 0.000000\n",
            "New best validation accuracy: 31.10%!\n",
            "\n",
            "Epoch 2/100\n"
          ]
        },
        {
          "metadata": {
            "tags": null
          },
          "name": "stderr",
          "output_type": "stream",
          "text": [
            "Training: 100%|██████████| 391/391 [00:54<00:00,  7.20it/s, loss=1.6342, acc=33.5%]\n",
            "Evaluation: 100%|██████████| 79/79 [00:03<00:00, 21.14it/s]\n"
          ]
        },
        {
          "metadata": {
            "tags": null
          },
          "name": "stdout",
          "output_type": "stream",
          "text": [
            "Train Loss: 1.7875, Train Acc: 33.46%\n",
            "Val Loss: 1.6427, Val Acc: 41.08%\n",
            "Epoch Time: 54.27s, Avg Batch Time: 128.50ms\n",
            "Current LR: 0.000200\n",
            "New best validation accuracy: 41.08%!\n",
            "\n",
            "Epoch 3/100\n"
          ]
        },
        {
          "metadata": {
            "tags": null
          },
          "name": "stderr",
          "output_type": "stream",
          "text": [
            "Training: 100%|██████████| 391/391 [00:54<00:00,  7.22it/s, loss=1.5681, acc=41.5%]\n",
            "Evaluation: 100%|██████████| 79/79 [00:04<00:00, 18.42it/s]\n"
          ]
        },
        {
          "metadata": {
            "tags": null
          },
          "name": "stdout",
          "output_type": "stream",
          "text": [
            "Train Loss: 1.5991, Train Acc: 41.49%\n",
            "Val Loss: 1.4307, Val Acc: 47.89%\n",
            "Epoch Time: 54.14s, Avg Batch Time: 129.37ms\n",
            "Current LR: 0.000400\n",
            "New best validation accuracy: 47.89%!\n",
            "\n",
            "Epoch 4/100\n"
          ]
        },
        {
          "metadata": {
            "tags": null
          },
          "name": "stderr",
          "output_type": "stream",
          "text": [
            "Training: 100%|██████████| 391/391 [00:54<00:00,  7.14it/s, loss=1.5446, acc=45.1%]\n",
            "Evaluation: 100%|██████████| 79/79 [00:03<00:00, 21.44it/s]\n"
          ]
        },
        {
          "metadata": {
            "tags": null
          },
          "name": "stdout",
          "output_type": "stream",
          "text": [
            "Train Loss: 1.5142, Train Acc: 45.13%\n",
            "Val Loss: 1.2912, Val Acc: 52.89%\n",
            "Epoch Time: 54.74s, Avg Batch Time: 129.83ms\n",
            "Current LR: 0.000600\n",
            "New best validation accuracy: 52.89%!\n",
            "\n",
            "Epoch 5/100\n"
          ]
        },
        {
          "metadata": {
            "tags": null
          },
          "name": "stderr",
          "output_type": "stream",
          "text": [
            "Training: 100%|██████████| 391/391 [00:55<00:00,  7.10it/s, loss=1.3856, acc=46.9%]\n",
            "Evaluation: 100%|██████████| 79/79 [00:04<00:00, 18.47it/s]\n"
          ]
        },
        {
          "metadata": {
            "tags": null
          },
          "name": "stdout",
          "output_type": "stream",
          "text": [
            "Train Loss: 1.4667, Train Acc: 46.87%\n",
            "Val Loss: 1.2890, Val Acc: 52.90%\n",
            "Epoch Time: 55.06s, Avg Batch Time: 130.17ms\n",
            "Current LR: 0.000800\n",
            "New best validation accuracy: 52.90%!\n",
            "\n",
            "Epoch 6/100\n"
          ]
        },
        {
          "metadata": {
            "tags": null
          },
          "name": "stderr",
          "output_type": "stream",
          "text": [
            "Training: 100%|██████████| 391/391 [00:55<00:00,  7.09it/s, loss=1.2798, acc=48.0%]\n",
            "Evaluation: 100%|██████████| 79/79 [00:03<00:00, 21.70it/s]\n"
          ]
        },
        {
          "metadata": {
            "tags": null
          },
          "name": "stdout",
          "output_type": "stream",
          "text": [
            "Train Loss: 1.4328, Train Acc: 48.01%\n",
            "Val Loss: 1.1976, Val Acc: 56.31%\n",
            "Epoch Time: 55.12s, Avg Batch Time: 130.00ms\n",
            "Current LR: 0.001000\n",
            "New best validation accuracy: 56.31%!\n",
            "\n",
            "Epoch 7/100\n"
          ]
        },
        {
          "metadata": {
            "tags": null
          },
          "name": "stderr",
          "output_type": "stream",
          "text": [
            "Training: 100%|██████████| 391/391 [00:55<00:00,  7.01it/s, loss=1.4215, acc=50.5%]\n",
            "Evaluation: 100%|██████████| 79/79 [00:03<00:00, 21.51it/s]\n"
          ]
        },
        {
          "metadata": {
            "tags": null
          },
          "name": "stdout",
          "output_type": "stream",
          "text": [
            "Train Loss: 1.3751, Train Acc: 50.52%\n",
            "Val Loss: 1.1698, Val Acc: 57.02%\n",
            "Epoch Time: 55.82s, Avg Batch Time: 131.52ms\n",
            "Current LR: 0.001000\n",
            "New best validation accuracy: 57.02%!\n",
            "\n",
            "Epoch 8/100\n"
          ]
        },
        {
          "metadata": {
            "tags": null
          },
          "name": "stderr",
          "output_type": "stream",
          "text": [
            "Training: 100%|██████████| 391/391 [00:54<00:00,  7.12it/s, loss=1.5185, acc=52.0%]\n",
            "Evaluation: 100%|██████████| 79/79 [00:03<00:00, 19.91it/s]\n"
          ]
        },
        {
          "metadata": {
            "tags": null
          },
          "name": "stdout",
          "output_type": "stream",
          "text": [
            "Train Loss: 1.3328, Train Acc: 51.96%\n",
            "Val Loss: 1.1469, Val Acc: 58.76%\n",
            "Epoch Time: 54.92s, Avg Batch Time: 129.83ms\n",
            "Current LR: 0.000999\n",
            "New best validation accuracy: 58.76%!\n",
            "\n",
            "Epoch 9/100\n"
          ]
        },
        {
          "metadata": {
            "tags": null
          },
          "name": "stderr",
          "output_type": "stream",
          "text": [
            "Training: 100%|██████████| 391/391 [00:55<00:00,  7.07it/s, loss=1.2167, acc=53.6%]\n",
            "Evaluation: 100%|██████████| 79/79 [00:03<00:00, 21.13it/s]\n"
          ]
        },
        {
          "metadata": {
            "tags": null
          },
          "name": "stdout",
          "output_type": "stream",
          "text": [
            "Train Loss: 1.2859, Train Acc: 53.61%\n",
            "Val Loss: 1.1086, Val Acc: 60.08%\n",
            "Epoch Time: 55.33s, Avg Batch Time: 129.89ms\n",
            "Current LR: 0.000998\n",
            "New best validation accuracy: 60.08%!\n",
            "\n",
            "Epoch 10/100\n"
          ]
        },
        {
          "metadata": {
            "tags": null
          },
          "name": "stderr",
          "output_type": "stream",
          "text": [
            "Training: 100%|██████████| 391/391 [00:55<00:00,  7.10it/s, loss=1.2256, acc=55.4%]\n",
            "Evaluation: 100%|██████████| 79/79 [00:04<00:00, 17.70it/s]\n"
          ]
        },
        {
          "metadata": {
            "tags": null
          },
          "name": "stdout",
          "output_type": "stream",
          "text": [
            "Train Loss: 1.2449, Train Acc: 55.39%\n",
            "Val Loss: 1.0298, Val Acc: 62.21%\n",
            "Epoch Time: 55.07s, Avg Batch Time: 129.95ms\n",
            "Current LR: 0.000996\n",
            "New best validation accuracy: 62.21%!\n",
            "\n",
            "Epoch 11/100\n"
          ]
        },
        {
          "metadata": {
            "tags": null
          },
          "name": "stderr",
          "output_type": "stream",
          "text": [
            "Training: 100%|██████████| 391/391 [00:54<00:00,  7.15it/s, loss=1.2635, acc=57.0%]\n",
            "Evaluation: 100%|██████████| 79/79 [00:03<00:00, 21.62it/s]\n"
          ]
        },
        {
          "metadata": {
            "tags": null
          },
          "name": "stdout",
          "output_type": "stream",
          "text": [
            "Train Loss: 1.2048, Train Acc: 57.03%\n",
            "Val Loss: 0.9956, Val Acc: 64.12%\n",
            "Epoch Time: 54.68s, Avg Batch Time: 129.77ms\n",
            "Current LR: 0.000993\n",
            "New best validation accuracy: 64.12%!\n",
            "\n",
            "Epoch 12/100\n"
          ]
        },
        {
          "metadata": {
            "tags": null
          },
          "name": "stderr",
          "output_type": "stream",
          "text": [
            "Training: 100%|██████████| 391/391 [00:54<00:00,  7.20it/s, loss=1.0468, acc=58.5%]\n",
            "Evaluation: 100%|██████████| 79/79 [00:03<00:00, 19.96it/s]\n"
          ]
        },
        {
          "metadata": {
            "tags": null
          },
          "name": "stdout",
          "output_type": "stream",
          "text": [
            "Train Loss: 1.1608, Train Acc: 58.50%\n",
            "Val Loss: 0.9781, Val Acc: 64.36%\n",
            "Epoch Time: 54.28s, Avg Batch Time: 128.55ms\n",
            "Current LR: 0.000990\n",
            "New best validation accuracy: 64.36%!\n",
            "\n",
            "Epoch 13/100\n"
          ]
        },
        {
          "metadata": {
            "tags": null
          },
          "name": "stderr",
          "output_type": "stream",
          "text": [
            "Training: 100%|██████████| 391/391 [00:54<00:00,  7.15it/s, loss=1.2326, acc=59.9%]\n",
            "Evaluation: 100%|██████████| 79/79 [00:03<00:00, 21.53it/s]\n"
          ]
        },
        {
          "metadata": {
            "tags": null
          },
          "name": "stdout",
          "output_type": "stream",
          "text": [
            "Train Loss: 1.1287, Train Acc: 59.95%\n",
            "Val Loss: 0.9105, Val Acc: 67.30%\n",
            "Epoch Time: 54.68s, Avg Batch Time: 128.78ms\n",
            "Current LR: 0.000987\n",
            "New best validation accuracy: 67.30%!\n",
            "\n",
            "Epoch 14/100\n"
          ]
        },
        {
          "metadata": {
            "tags": null
          },
          "name": "stderr",
          "output_type": "stream",
          "text": [
            "Training: 100%|██████████| 391/391 [00:55<00:00,  7.10it/s, loss=1.0933, acc=61.1%]\n",
            "Evaluation: 100%|██████████| 79/79 [00:03<00:00, 21.44it/s]\n"
          ]
        },
        {
          "metadata": {
            "tags": null
          },
          "name": "stdout",
          "output_type": "stream",
          "text": [
            "Train Loss: 1.0951, Train Acc: 61.06%\n",
            "Val Loss: 0.9410, Val Acc: 66.57%\n",
            "Epoch Time: 55.05s, Avg Batch Time: 130.12ms\n",
            "Current LR: 0.000983\n",
            "\n",
            "Epoch 15/100\n"
          ]
        },
        {
          "metadata": {
            "tags": null
          },
          "name": "stderr",
          "output_type": "stream",
          "text": [
            "Training: 100%|██████████| 391/391 [00:54<00:00,  7.19it/s, loss=1.0680, acc=61.9%]\n",
            "Evaluation: 100%|██████████| 79/79 [00:04<00:00, 19.36it/s]\n"
          ]
        },
        {
          "metadata": {
            "tags": null
          },
          "name": "stdout",
          "output_type": "stream",
          "text": [
            "Train Loss: 1.0667, Train Acc: 61.92%\n",
            "Val Loss: 0.8715, Val Acc: 68.42%\n",
            "Epoch Time: 54.37s, Avg Batch Time: 129.16ms\n",
            "Current LR: 0.000978\n",
            "New best validation accuracy: 68.42%!\n",
            "\n",
            "Epoch 16/100\n"
          ]
        },
        {
          "metadata": {
            "tags": null
          },
          "name": "stderr",
          "output_type": "stream",
          "text": [
            "Training: 100%|██████████| 391/391 [00:54<00:00,  7.22it/s, loss=1.1396, acc=63.3%]\n",
            "Evaluation: 100%|██████████| 79/79 [00:03<00:00, 21.20it/s]\n"
          ]
        },
        {
          "metadata": {
            "tags": null
          },
          "name": "stdout",
          "output_type": "stream",
          "text": [
            "Train Loss: 1.0368, Train Acc: 63.26%\n",
            "Val Loss: 0.8368, Val Acc: 70.37%\n",
            "Epoch Time: 54.13s, Avg Batch Time: 129.00ms\n",
            "Current LR: 0.000973\n",
            "New best validation accuracy: 70.37%!\n",
            "\n",
            "Epoch 17/100\n"
          ]
        },
        {
          "metadata": {
            "tags": null
          },
          "name": "stderr",
          "output_type": "stream",
          "text": [
            "Training: 100%|██████████| 391/391 [00:54<00:00,  7.23it/s, loss=0.9699, acc=64.2%]\n",
            "Evaluation: 100%|██████████| 79/79 [00:03<00:00, 19.97it/s]\n"
          ]
        },
        {
          "metadata": {
            "tags": null
          },
          "name": "stdout",
          "output_type": "stream",
          "text": [
            "Train Loss: 1.0146, Train Acc: 64.22%\n",
            "Val Loss: 0.8140, Val Acc: 71.06%\n",
            "Epoch Time: 54.05s, Avg Batch Time: 128.12ms\n",
            "Current LR: 0.000967\n",
            "New best validation accuracy: 71.06%!\n",
            "\n",
            "Epoch 18/100\n"
          ]
        },
        {
          "metadata": {
            "tags": null
          },
          "name": "stderr",
          "output_type": "stream",
          "text": [
            "Training: 100%|██████████| 391/391 [00:53<00:00,  7.25it/s, loss=1.0908, acc=65.1%]\n",
            "Evaluation: 100%|██████████| 79/79 [00:03<00:00, 21.20it/s]\n"
          ]
        },
        {
          "metadata": {
            "tags": null
          },
          "name": "stdout",
          "output_type": "stream",
          "text": [
            "Train Loss: 0.9888, Train Acc: 65.11%\n",
            "Val Loss: 0.8293, Val Acc: 70.29%\n",
            "Epoch Time: 53.96s, Avg Batch Time: 127.60ms\n",
            "Current LR: 0.000961\n",
            "\n",
            "Epoch 19/100\n"
          ]
        },
        {
          "metadata": {
            "tags": null
          },
          "name": "stderr",
          "output_type": "stream",
          "text": [
            "Training: 100%|██████████| 391/391 [00:55<00:00,  7.10it/s, loss=1.0850, acc=66.1%]\n",
            "Evaluation: 100%|██████████| 79/79 [00:03<00:00, 21.87it/s]\n"
          ]
        },
        {
          "metadata": {
            "tags": null
          },
          "name": "stdout",
          "output_type": "stream",
          "text": [
            "Train Loss: 0.9642, Train Acc: 66.15%\n",
            "Val Loss: 0.7938, Val Acc: 71.47%\n",
            "Epoch Time: 55.04s, Avg Batch Time: 129.72ms\n",
            "Current LR: 0.000955\n",
            "New best validation accuracy: 71.47%!\n",
            "\n",
            "Epoch 20/100\n"
          ]
        },
        {
          "metadata": {
            "tags": null
          },
          "name": "stderr",
          "output_type": "stream",
          "text": [
            "Training: 100%|██████████| 391/391 [00:54<00:00,  7.14it/s, loss=1.0751, acc=66.4%]\n",
            "Evaluation: 100%|██████████| 79/79 [00:04<00:00, 18.57it/s]\n"
          ]
        },
        {
          "metadata": {
            "tags": null
          },
          "name": "stdout",
          "output_type": "stream",
          "text": [
            "Train Loss: 0.9475, Train Acc: 66.41%\n",
            "Val Loss: 0.7539, Val Acc: 73.58%\n",
            "Epoch Time: 54.76s, Avg Batch Time: 128.90ms\n",
            "Current LR: 0.000947\n",
            "New best validation accuracy: 73.58%!\n",
            "\n",
            "Epoch 21/100\n"
          ]
        },
        {
          "metadata": {
            "tags": null
          },
          "name": "stderr",
          "output_type": "stream",
          "text": [
            "Training: 100%|██████████| 391/391 [00:54<00:00,  7.13it/s, loss=0.9725, acc=67.4%]\n",
            "Evaluation: 100%|██████████| 79/79 [00:03<00:00, 20.91it/s]\n"
          ]
        },
        {
          "metadata": {
            "tags": null
          },
          "name": "stdout",
          "output_type": "stream",
          "text": [
            "Train Loss: 0.9268, Train Acc: 67.44%\n",
            "Val Loss: 0.7238, Val Acc: 74.36%\n",
            "Epoch Time: 54.84s, Avg Batch Time: 129.03ms\n",
            "Current LR: 0.000940\n",
            "New best validation accuracy: 74.36%!\n",
            "\n",
            "Epoch 22/100\n"
          ]
        },
        {
          "metadata": {
            "tags": null
          },
          "name": "stderr",
          "output_type": "stream",
          "text": [
            "Training: 100%|██████████| 391/391 [00:55<00:00,  7.06it/s, loss=0.8376, acc=67.7%]\n",
            "Evaluation: 100%|██████████| 79/79 [00:03<00:00, 21.26it/s]\n"
          ]
        },
        {
          "metadata": {
            "tags": null
          },
          "name": "stdout",
          "output_type": "stream",
          "text": [
            "Train Loss: 0.9146, Train Acc: 67.72%\n",
            "Val Loss: 0.7750, Val Acc: 72.45%\n",
            "Epoch Time: 55.38s, Avg Batch Time: 129.73ms\n",
            "Current LR: 0.000932\n",
            "\n",
            "Epoch 23/100\n"
          ]
        },
        {
          "metadata": {
            "tags": null
          },
          "name": "stderr",
          "output_type": "stream",
          "text": [
            "Training: 100%|██████████| 391/391 [00:54<00:00,  7.18it/s, loss=0.7607, acc=68.6%]\n",
            "Evaluation: 100%|██████████| 79/79 [00:04<00:00, 18.61it/s]\n"
          ]
        },
        {
          "metadata": {
            "tags": null
          },
          "name": "stdout",
          "output_type": "stream",
          "text": [
            "Train Loss: 0.8896, Train Acc: 68.57%\n",
            "Val Loss: 0.7163, Val Acc: 74.69%\n",
            "Epoch Time: 54.46s, Avg Batch Time: 129.42ms\n",
            "Current LR: 0.000923\n",
            "New best validation accuracy: 74.69%!\n",
            "\n",
            "Epoch 24/100\n"
          ]
        },
        {
          "metadata": {
            "tags": null
          },
          "name": "stderr",
          "output_type": "stream",
          "text": [
            "Training: 100%|██████████| 391/391 [00:54<00:00,  7.19it/s, loss=0.9059, acc=68.9%]\n",
            "Evaluation: 100%|██████████| 79/79 [00:03<00:00, 21.60it/s]\n"
          ]
        },
        {
          "metadata": {
            "tags": null
          },
          "name": "stdout",
          "output_type": "stream",
          "text": [
            "Train Loss: 0.8796, Train Acc: 68.86%\n",
            "Val Loss: 0.6886, Val Acc: 75.79%\n",
            "Epoch Time: 54.37s, Avg Batch Time: 129.00ms\n",
            "Current LR: 0.000914\n",
            "New best validation accuracy: 75.79%!\n",
            "\n",
            "Epoch 25/100\n"
          ]
        },
        {
          "metadata": {
            "tags": null
          },
          "name": "stderr",
          "output_type": "stream",
          "text": [
            "Training: 100%|██████████| 391/391 [00:54<00:00,  7.17it/s, loss=0.8756, acc=69.6%]\n",
            "Evaluation: 100%|██████████| 79/79 [00:03<00:00, 21.66it/s]\n"
          ]
        },
        {
          "metadata": {
            "tags": null
          },
          "name": "stdout",
          "output_type": "stream",
          "text": [
            "Train Loss: 0.8608, Train Acc: 69.62%\n",
            "Val Loss: 0.7286, Val Acc: 74.39%\n",
            "Epoch Time: 54.51s, Avg Batch Time: 128.79ms\n",
            "Current LR: 0.000905\n",
            "\n",
            "Epoch 26/100\n"
          ]
        },
        {
          "metadata": {
            "tags": null
          },
          "name": "stderr",
          "output_type": "stream",
          "text": [
            "Training: 100%|██████████| 391/391 [00:54<00:00,  7.21it/s, loss=1.0618, acc=70.2%]\n",
            "Evaluation: 100%|██████████| 79/79 [00:03<00:00, 20.54it/s]\n"
          ]
        },
        {
          "metadata": {
            "tags": null
          },
          "name": "stdout",
          "output_type": "stream",
          "text": [
            "Train Loss: 0.8447, Train Acc: 70.22%\n",
            "Val Loss: 0.6729, Val Acc: 76.16%\n",
            "Epoch Time: 54.24s, Avg Batch Time: 128.42ms\n",
            "Current LR: 0.000895\n",
            "New best validation accuracy: 76.16%!\n",
            "\n",
            "Epoch 27/100\n"
          ]
        },
        {
          "metadata": {
            "tags": null
          },
          "name": "stderr",
          "output_type": "stream",
          "text": [
            "Training: 100%|██████████| 391/391 [00:54<00:00,  7.18it/s, loss=0.7299, acc=70.8%]\n",
            "Evaluation: 100%|██████████| 79/79 [00:03<00:00, 21.62it/s]\n"
          ]
        },
        {
          "metadata": {
            "tags": null
          },
          "name": "stdout",
          "output_type": "stream",
          "text": [
            "Train Loss: 0.8294, Train Acc: 70.79%\n",
            "Val Loss: 0.7406, Val Acc: 73.84%\n",
            "Epoch Time: 54.49s, Avg Batch Time: 129.46ms\n",
            "Current LR: 0.000884\n",
            "\n",
            "Epoch 28/100\n"
          ]
        },
        {
          "metadata": {
            "tags": null
          },
          "name": "stderr",
          "output_type": "stream",
          "text": [
            "Training: 100%|██████████| 391/391 [00:54<00:00,  7.23it/s, loss=0.5643, acc=71.4%]\n",
            "Evaluation: 100%|██████████| 79/79 [00:04<00:00, 18.81it/s]\n"
          ]
        },
        {
          "metadata": {
            "tags": null
          },
          "name": "stdout",
          "output_type": "stream",
          "text": [
            "Train Loss: 0.8136, Train Acc: 71.43%\n",
            "Val Loss: 0.6548, Val Acc: 77.00%\n",
            "Epoch Time: 54.12s, Avg Batch Time: 128.03ms\n",
            "Current LR: 0.000873\n",
            "New best validation accuracy: 77.00%!\n",
            "\n",
            "Epoch 29/100\n"
          ]
        },
        {
          "metadata": {
            "tags": null
          },
          "name": "stderr",
          "output_type": "stream",
          "text": [
            "Training: 100%|██████████| 391/391 [00:54<00:00,  7.23it/s, loss=0.6519, acc=71.6%]\n",
            "Evaluation: 100%|██████████| 79/79 [00:03<00:00, 21.85it/s]\n"
          ]
        },
        {
          "metadata": {
            "tags": null
          },
          "name": "stdout",
          "output_type": "stream",
          "text": [
            "Train Loss: 0.8063, Train Acc: 71.60%\n",
            "Val Loss: 0.6824, Val Acc: 76.15%\n",
            "Epoch Time: 54.06s, Avg Batch Time: 128.86ms\n",
            "Current LR: 0.000862\n",
            "\n",
            "Epoch 30/100\n"
          ]
        },
        {
          "metadata": {
            "tags": null
          },
          "name": "stderr",
          "output_type": "stream",
          "text": [
            "Training: 100%|██████████| 391/391 [00:54<00:00,  7.20it/s, loss=0.7775, acc=72.5%]\n",
            "Evaluation: 100%|██████████| 79/79 [00:03<00:00, 21.76it/s]\n"
          ]
        },
        {
          "metadata": {
            "tags": null
          },
          "name": "stdout",
          "output_type": "stream",
          "text": [
            "Train Loss: 0.7856, Train Acc: 72.52%\n",
            "Val Loss: 0.6374, Val Acc: 77.83%\n",
            "Epoch Time: 54.29s, Avg Batch Time: 128.53ms\n",
            "Current LR: 0.000851\n",
            "New best validation accuracy: 77.83%!\n",
            "\n",
            "Epoch 31/100\n"
          ]
        },
        {
          "output_type": "stream",
          "name": "stderr",
          "text": [
            "Training: 100%|██████████| 391/391 [00:54<00:00,  7.18it/s, loss=0.7689, acc=72.5%]\n",
            "Evaluation: 100%|██████████| 79/79 [00:03<00:00, 20.26it/s]\n"
          ]
        },
        {
          "output_type": "stream",
          "name": "stdout",
          "text": [
            "Train Loss: 0.7794, Train Acc: 72.47%\n",
            "Val Loss: 0.6545, Val Acc: 77.24%\n",
            "Epoch Time: 54.44s, Avg Batch Time: 128.68ms\n",
            "Current LR: 0.000839\n",
            "\n",
            "Epoch 32/100\n"
          ]
        },
        {
          "output_type": "stream",
          "name": "stderr",
          "text": [
            "Training: 100%|██████████| 391/391 [00:54<00:00,  7.16it/s, loss=0.6771, acc=73.0%]\n",
            "Evaluation: 100%|██████████| 79/79 [00:03<00:00, 21.28it/s]\n"
          ]
        },
        {
          "output_type": "stream",
          "name": "stdout",
          "text": [
            "Train Loss: 0.7634, Train Acc: 73.04%\n",
            "Val Loss: 0.6279, Val Acc: 77.79%\n",
            "Epoch Time: 54.63s, Avg Batch Time: 128.09ms\n",
            "Current LR: 0.000826\n",
            "\n",
            "Epoch 33/100\n"
          ]
        },
        {
          "output_type": "stream",
          "name": "stderr",
          "text": [
            "Training: 100%|██████████| 391/391 [00:54<00:00,  7.19it/s, loss=0.7099, acc=73.7%]\n",
            "Evaluation: 100%|██████████| 79/79 [00:04<00:00, 19.60it/s]\n"
          ]
        },
        {
          "output_type": "stream",
          "name": "stdout",
          "text": [
            "Train Loss: 0.7524, Train Acc: 73.66%\n",
            "Val Loss: 0.5964, Val Acc: 78.96%\n",
            "Epoch Time: 54.42s, Avg Batch Time: 128.22ms\n",
            "Current LR: 0.000814\n",
            "New best validation accuracy: 78.96%!\n",
            "\n",
            "Epoch 34/100\n"
          ]
        },
        {
          "output_type": "stream",
          "name": "stderr",
          "text": [
            "Training: 100%|██████████| 391/391 [00:54<00:00,  7.19it/s, loss=0.6681, acc=74.0%]\n",
            "Evaluation: 100%|██████████| 79/79 [00:03<00:00, 21.74it/s]\n"
          ]
        },
        {
          "output_type": "stream",
          "name": "stdout",
          "text": [
            "Train Loss: 0.7366, Train Acc: 74.04%\n",
            "Val Loss: 0.5889, Val Acc: 79.14%\n",
            "Epoch Time: 54.42s, Avg Batch Time: 128.20ms\n",
            "Current LR: 0.000801\n",
            "New best validation accuracy: 79.14%!\n",
            "\n",
            "Epoch 35/100\n"
          ]
        },
        {
          "output_type": "stream",
          "name": "stderr",
          "text": [
            "Training: 100%|██████████| 391/391 [00:54<00:00,  7.15it/s, loss=0.7134, acc=74.2%]\n",
            "Evaluation: 100%|██████████| 79/79 [00:03<00:00, 21.68it/s]\n"
          ]
        },
        {
          "output_type": "stream",
          "name": "stdout",
          "text": [
            "Train Loss: 0.7314, Train Acc: 74.23%\n",
            "Val Loss: 0.6302, Val Acc: 77.74%\n",
            "Epoch Time: 54.71s, Avg Batch Time: 129.02ms\n",
            "Current LR: 0.000787\n",
            "\n",
            "Epoch 36/100\n"
          ]
        },
        {
          "output_type": "stream",
          "name": "stderr",
          "text": [
            "Training: 100%|██████████| 391/391 [00:54<00:00,  7.22it/s, loss=0.7640, acc=74.3%]\n",
            "Evaluation: 100%|██████████| 79/79 [00:03<00:00, 19.83it/s]\n"
          ]
        },
        {
          "output_type": "stream",
          "name": "stdout",
          "text": [
            "Train Loss: 0.7215, Train Acc: 74.34%\n",
            "Val Loss: 0.5819, Val Acc: 79.93%\n",
            "Epoch Time: 54.17s, Avg Batch Time: 128.82ms\n",
            "Current LR: 0.000773\n",
            "New best validation accuracy: 79.93%!\n",
            "\n",
            "Epoch 37/100\n"
          ]
        },
        {
          "output_type": "stream",
          "name": "stderr",
          "text": [
            "Training: 100%|██████████| 391/391 [00:54<00:00,  7.20it/s, loss=0.8528, acc=75.1%]\n",
            "Evaluation: 100%|██████████| 79/79 [00:03<00:00, 21.85it/s]\n"
          ]
        },
        {
          "output_type": "stream",
          "name": "stdout",
          "text": [
            "Train Loss: 0.7056, Train Acc: 75.15%\n",
            "Val Loss: 0.5656, Val Acc: 80.30%\n",
            "Epoch Time: 54.30s, Avg Batch Time: 128.31ms\n",
            "Current LR: 0.000759\n",
            "New best validation accuracy: 80.30%!\n",
            "\n",
            "Epoch 38/100\n"
          ]
        },
        {
          "output_type": "stream",
          "name": "stderr",
          "text": [
            "Training: 100%|██████████| 391/391 [00:54<00:00,  7.13it/s, loss=0.5886, acc=75.3%]\n",
            "Evaluation: 100%|██████████| 79/79 [00:03<00:00, 21.66it/s]\n"
          ]
        },
        {
          "output_type": "stream",
          "name": "stdout",
          "text": [
            "Train Loss: 0.6964, Train Acc: 75.26%\n",
            "Val Loss: 0.5517, Val Acc: 80.76%\n",
            "Epoch Time: 54.86s, Avg Batch Time: 129.20ms\n",
            "Current LR: 0.000745\n",
            "New best validation accuracy: 80.76%!\n",
            "\n",
            "Epoch 39/100\n"
          ]
        },
        {
          "output_type": "stream",
          "name": "stderr",
          "text": [
            "Training: 100%|██████████| 391/391 [00:53<00:00,  7.25it/s, loss=0.5966, acc=75.5%]\n",
            "Evaluation: 100%|██████████| 79/79 [00:03<00:00, 20.62it/s]\n"
          ]
        },
        {
          "output_type": "stream",
          "name": "stdout",
          "text": [
            "Train Loss: 0.6909, Train Acc: 75.46%\n",
            "Val Loss: 0.5619, Val Acc: 80.32%\n",
            "Epoch Time: 53.95s, Avg Batch Time: 127.73ms\n",
            "Current LR: 0.000731\n",
            "\n",
            "Epoch 40/100\n"
          ]
        },
        {
          "output_type": "stream",
          "name": "stderr",
          "text": [
            "Training: 100%|██████████| 391/391 [00:54<00:00,  7.21it/s, loss=0.7079, acc=76.3%]\n",
            "Evaluation: 100%|██████████| 79/79 [00:03<00:00, 21.68it/s]\n"
          ]
        },
        {
          "output_type": "stream",
          "name": "stdout",
          "text": [
            "Train Loss: 0.6752, Train Acc: 76.26%\n",
            "Val Loss: 0.5700, Val Acc: 80.01%\n",
            "Epoch Time: 54.23s, Avg Batch Time: 128.33ms\n",
            "Current LR: 0.000716\n",
            "\n",
            "Epoch 41/100\n"
          ]
        },
        {
          "output_type": "stream",
          "name": "stderr",
          "text": [
            "Training: 100%|██████████| 391/391 [00:53<00:00,  7.24it/s, loss=0.6815, acc=76.5%]\n",
            "Evaluation: 100%|██████████| 79/79 [00:04<00:00, 19.49it/s]\n"
          ]
        },
        {
          "output_type": "stream",
          "name": "stdout",
          "text": [
            "Train Loss: 0.6701, Train Acc: 76.53%\n",
            "Val Loss: 0.5770, Val Acc: 80.08%\n",
            "Epoch Time: 53.98s, Avg Batch Time: 128.24ms\n",
            "Current LR: 0.000701\n",
            "\n",
            "Epoch 42/100\n"
          ]
        },
        {
          "output_type": "stream",
          "name": "stderr",
          "text": [
            "Training: 100%|██████████| 391/391 [00:54<00:00,  7.18it/s, loss=0.6758, acc=76.7%]\n",
            "Evaluation: 100%|██████████| 79/79 [00:03<00:00, 21.48it/s]\n"
          ]
        },
        {
          "output_type": "stream",
          "name": "stdout",
          "text": [
            "Train Loss: 0.6601, Train Acc: 76.71%\n",
            "Val Loss: 0.5382, Val Acc: 81.57%\n",
            "Epoch Time: 54.43s, Avg Batch Time: 128.76ms\n",
            "Current LR: 0.000686\n",
            "New best validation accuracy: 81.57%!\n",
            "\n",
            "Epoch 43/100\n"
          ]
        },
        {
          "output_type": "stream",
          "name": "stderr",
          "text": [
            "Training: 100%|██████████| 391/391 [00:55<00:00,  7.08it/s, loss=0.6583, acc=76.9%]\n",
            "Evaluation: 100%|██████████| 79/79 [00:03<00:00, 21.37it/s]\n"
          ]
        },
        {
          "output_type": "stream",
          "name": "stdout",
          "text": [
            "Train Loss: 0.6514, Train Acc: 76.89%\n",
            "Val Loss: 0.5578, Val Acc: 81.13%\n",
            "Epoch Time: 55.22s, Avg Batch Time: 129.36ms\n",
            "Current LR: 0.000670\n",
            "\n",
            "Epoch 44/100\n"
          ]
        },
        {
          "output_type": "stream",
          "name": "stderr",
          "text": [
            "Training: 100%|██████████| 391/391 [00:54<00:00,  7.20it/s, loss=0.5760, acc=77.5%]\n",
            "Evaluation: 100%|██████████| 79/79 [00:04<00:00, 18.75it/s]\n"
          ]
        },
        {
          "output_type": "stream",
          "name": "stdout",
          "text": [
            "Train Loss: 0.6403, Train Acc: 77.46%\n",
            "Val Loss: 0.5435, Val Acc: 81.44%\n",
            "Epoch Time: 54.28s, Avg Batch Time: 128.14ms\n",
            "Current LR: 0.000655\n",
            "\n",
            "Epoch 45/100\n"
          ]
        },
        {
          "output_type": "stream",
          "name": "stderr",
          "text": [
            "Training: 100%|██████████| 391/391 [00:54<00:00,  7.16it/s, loss=0.6179, acc=77.8%]\n",
            "Evaluation: 100%|██████████| 79/79 [00:03<00:00, 21.76it/s]\n"
          ]
        },
        {
          "output_type": "stream",
          "name": "stdout",
          "text": [
            "Train Loss: 0.6274, Train Acc: 77.77%\n",
            "Val Loss: 0.5424, Val Acc: 81.59%\n",
            "Epoch Time: 54.59s, Avg Batch Time: 128.52ms\n",
            "Current LR: 0.000639\n",
            "New best validation accuracy: 81.59%!\n",
            "\n",
            "Epoch 46/100\n"
          ]
        },
        {
          "output_type": "stream",
          "name": "stderr",
          "text": [
            "Training: 100%|██████████| 391/391 [00:54<00:00,  7.13it/s, loss=0.6778, acc=78.0%]\n",
            "Evaluation: 100%|██████████| 79/79 [00:03<00:00, 21.48it/s]\n"
          ]
        },
        {
          "output_type": "stream",
          "name": "stdout",
          "text": [
            "Train Loss: 0.6223, Train Acc: 78.04%\n",
            "Val Loss: 0.5999, Val Acc: 79.97%\n",
            "Epoch Time: 54.83s, Avg Batch Time: 129.48ms\n",
            "Current LR: 0.000623\n",
            "\n",
            "Epoch 47/100\n"
          ]
        },
        {
          "output_type": "stream",
          "name": "stderr",
          "text": [
            "Training: 100%|██████████| 391/391 [00:53<00:00,  7.26it/s, loss=0.5327, acc=78.3%]\n",
            "Evaluation: 100%|██████████| 79/79 [00:03<00:00, 20.87it/s]\n"
          ]
        },
        {
          "output_type": "stream",
          "name": "stdout",
          "text": [
            "Train Loss: 0.6143, Train Acc: 78.29%\n",
            "Val Loss: 0.5235, Val Acc: 81.80%\n",
            "Epoch Time: 53.88s, Avg Batch Time: 128.35ms\n",
            "Current LR: 0.000607\n",
            "New best validation accuracy: 81.80%!\n",
            "\n",
            "Epoch 48/100\n"
          ]
        },
        {
          "output_type": "stream",
          "name": "stderr",
          "text": [
            "Training: 100%|██████████| 391/391 [00:54<00:00,  7.13it/s, loss=0.7381, acc=78.7%]\n",
            "Evaluation: 100%|██████████| 79/79 [00:03<00:00, 21.77it/s]\n"
          ]
        },
        {
          "output_type": "stream",
          "name": "stdout",
          "text": [
            "Train Loss: 0.6060, Train Acc: 78.65%\n",
            "Val Loss: 0.5336, Val Acc: 81.83%\n",
            "Epoch Time: 54.87s, Avg Batch Time: 128.54ms\n",
            "Current LR: 0.000590\n",
            "New best validation accuracy: 81.83%!\n",
            "\n",
            "Epoch 49/100\n"
          ]
        },
        {
          "output_type": "stream",
          "name": "stderr",
          "text": [
            "Training: 100%|██████████| 391/391 [00:54<00:00,  7.19it/s, loss=0.5807, acc=79.2%]\n",
            "Evaluation: 100%|██████████| 79/79 [00:04<00:00, 18.68it/s]\n"
          ]
        },
        {
          "output_type": "stream",
          "name": "stdout",
          "text": [
            "Train Loss: 0.5891, Train Acc: 79.17%\n",
            "Val Loss: 0.5204, Val Acc: 82.46%\n",
            "Epoch Time: 54.35s, Avg Batch Time: 128.59ms\n",
            "Current LR: 0.000574\n",
            "New best validation accuracy: 82.46%!\n",
            "\n",
            "Epoch 50/100\n"
          ]
        },
        {
          "output_type": "stream",
          "name": "stderr",
          "text": [
            "Training: 100%|██████████| 391/391 [00:54<00:00,  7.24it/s, loss=0.5169, acc=79.4%]\n",
            "Evaluation: 100%|██████████| 79/79 [00:03<00:00, 21.59it/s]\n"
          ]
        },
        {
          "output_type": "stream",
          "name": "stdout",
          "text": [
            "Train Loss: 0.5824, Train Acc: 79.44%\n",
            "Val Loss: 0.5233, Val Acc: 82.10%\n",
            "Epoch Time: 54.03s, Avg Batch Time: 127.71ms\n",
            "Current LR: 0.000558\n",
            "\n",
            "Epoch 51/100\n"
          ]
        },
        {
          "output_type": "stream",
          "name": "stderr",
          "text": [
            "Training: 100%|██████████| 391/391 [00:54<00:00,  7.15it/s, loss=0.5099, acc=79.3%]\n",
            "Evaluation: 100%|██████████| 79/79 [00:03<00:00, 21.46it/s]\n"
          ]
        },
        {
          "output_type": "stream",
          "name": "stdout",
          "text": [
            "Train Loss: 0.5805, Train Acc: 79.32%\n",
            "Val Loss: 0.4911, Val Acc: 82.85%\n",
            "Epoch Time: 54.71s, Avg Batch Time: 129.21ms\n",
            "Current LR: 0.000541\n",
            "New best validation accuracy: 82.85%!\n",
            "\n",
            "Epoch 52/100\n"
          ]
        },
        {
          "output_type": "stream",
          "name": "stderr",
          "text": [
            "Training: 100%|██████████| 391/391 [00:54<00:00,  7.20it/s, loss=0.6388, acc=79.8%]\n",
            "Evaluation: 100%|██████████| 79/79 [00:04<00:00, 19.29it/s]\n"
          ]
        },
        {
          "output_type": "stream",
          "name": "stdout",
          "text": [
            "Train Loss: 0.5674, Train Acc: 79.84%\n",
            "Val Loss: 0.4951, Val Acc: 82.91%\n",
            "Epoch Time: 54.34s, Avg Batch Time: 127.88ms\n",
            "Current LR: 0.000525\n",
            "New best validation accuracy: 82.91%!\n",
            "\n",
            "Epoch 53/100\n"
          ]
        },
        {
          "output_type": "stream",
          "name": "stderr",
          "text": [
            "Training: 100%|██████████| 391/391 [00:54<00:00,  7.20it/s, loss=0.5434, acc=80.3%]\n",
            "Evaluation: 100%|██████████| 79/79 [00:03<00:00, 21.49it/s]\n"
          ]
        },
        {
          "output_type": "stream",
          "name": "stdout",
          "text": [
            "Train Loss: 0.5591, Train Acc: 80.33%\n",
            "Val Loss: 0.5098, Val Acc: 82.81%\n",
            "Epoch Time: 54.28s, Avg Batch Time: 128.40ms\n",
            "Current LR: 0.000508\n",
            "\n",
            "Epoch 54/100\n"
          ]
        },
        {
          "output_type": "stream",
          "name": "stderr",
          "text": [
            "Training: 100%|██████████| 391/391 [00:54<00:00,  7.17it/s, loss=0.5311, acc=80.7%]\n",
            "Evaluation: 100%|██████████| 79/79 [00:03<00:00, 19.94it/s]\n"
          ]
        },
        {
          "output_type": "stream",
          "name": "stdout",
          "text": [
            "Train Loss: 0.5475, Train Acc: 80.71%\n",
            "Val Loss: 0.5015, Val Acc: 83.00%\n",
            "Epoch Time: 54.53s, Avg Batch Time: 128.66ms\n",
            "Current LR: 0.000492\n",
            "New best validation accuracy: 83.00%!\n",
            "\n",
            "Epoch 55/100\n"
          ]
        },
        {
          "output_type": "stream",
          "name": "stderr",
          "text": [
            "Training: 100%|██████████| 391/391 [00:54<00:00,  7.18it/s, loss=0.4718, acc=81.0%]\n",
            "Evaluation: 100%|██████████| 79/79 [00:03<00:00, 21.01it/s]\n"
          ]
        },
        {
          "output_type": "stream",
          "name": "stdout",
          "text": [
            "Train Loss: 0.5392, Train Acc: 80.99%\n",
            "Val Loss: 0.5150, Val Acc: 82.48%\n",
            "Epoch Time: 54.46s, Avg Batch Time: 127.52ms\n",
            "Current LR: 0.000475\n",
            "\n",
            "Epoch 56/100\n"
          ]
        },
        {
          "output_type": "stream",
          "name": "stderr",
          "text": [
            "Training: 100%|██████████| 391/391 [00:55<00:00,  7.10it/s, loss=0.5664, acc=80.9%]\n",
            "Evaluation: 100%|██████████| 79/79 [00:03<00:00, 21.67it/s]\n"
          ]
        },
        {
          "output_type": "stream",
          "name": "stdout",
          "text": [
            "Train Loss: 0.5372, Train Acc: 80.91%\n",
            "Val Loss: 0.5119, Val Acc: 82.46%\n",
            "Epoch Time: 55.04s, Avg Batch Time: 129.11ms\n",
            "Current LR: 0.000459\n",
            "\n",
            "Epoch 57/100\n"
          ]
        },
        {
          "output_type": "stream",
          "name": "stderr",
          "text": [
            "Training: 100%|██████████| 391/391 [00:54<00:00,  7.15it/s, loss=0.4433, acc=81.2%]\n",
            "Evaluation: 100%|██████████| 79/79 [00:04<00:00, 19.47it/s]\n"
          ]
        },
        {
          "output_type": "stream",
          "name": "stdout",
          "text": [
            "Train Loss: 0.5262, Train Acc: 81.21%\n",
            "Val Loss: 0.4878, Val Acc: 83.32%\n",
            "Epoch Time: 54.67s, Avg Batch Time: 128.52ms\n",
            "Current LR: 0.000442\n",
            "New best validation accuracy: 83.32%!\n",
            "\n",
            "Epoch 58/100\n"
          ]
        },
        {
          "output_type": "stream",
          "name": "stderr",
          "text": [
            "Training: 100%|██████████| 391/391 [00:54<00:00,  7.18it/s, loss=0.4969, acc=81.7%]\n",
            "Evaluation: 100%|██████████| 79/79 [00:03<00:00, 21.41it/s]\n"
          ]
        },
        {
          "output_type": "stream",
          "name": "stdout",
          "text": [
            "Train Loss: 0.5189, Train Acc: 81.72%\n",
            "Val Loss: 0.4739, Val Acc: 83.94%\n",
            "Epoch Time: 54.47s, Avg Batch Time: 128.79ms\n",
            "Current LR: 0.000426\n",
            "New best validation accuracy: 83.94%!\n",
            "\n",
            "Epoch 59/100\n"
          ]
        },
        {
          "output_type": "stream",
          "name": "stderr",
          "text": [
            "Training: 100%|██████████| 391/391 [00:55<00:00,  7.10it/s, loss=0.4464, acc=82.0%]\n",
            "Evaluation: 100%|██████████| 79/79 [00:03<00:00, 21.69it/s]\n"
          ]
        },
        {
          "output_type": "stream",
          "name": "stdout",
          "text": [
            "Train Loss: 0.5035, Train Acc: 82.03%\n",
            "Val Loss: 0.5018, Val Acc: 83.04%\n",
            "Epoch Time: 55.07s, Avg Batch Time: 128.78ms\n",
            "Current LR: 0.000410\n",
            "\n",
            "Epoch 60/100\n"
          ]
        },
        {
          "output_type": "stream",
          "name": "stderr",
          "text": [
            "Training: 100%|██████████| 391/391 [00:54<00:00,  7.15it/s, loss=0.4146, acc=82.5%]\n",
            "Evaluation: 100%|██████████| 79/79 [00:04<00:00, 18.87it/s]\n"
          ]
        },
        {
          "output_type": "stream",
          "name": "stdout",
          "text": [
            "Train Loss: 0.4988, Train Acc: 82.46%\n",
            "Val Loss: 0.4782, Val Acc: 83.96%\n",
            "Epoch Time: 54.69s, Avg Batch Time: 128.51ms\n",
            "Current LR: 0.000393\n",
            "New best validation accuracy: 83.96%!\n",
            "\n",
            "Epoch 61/100\n"
          ]
        },
        {
          "output_type": "stream",
          "name": "stderr",
          "text": [
            "Training: 100%|██████████| 391/391 [00:54<00:00,  7.18it/s, loss=0.4126, acc=82.3%]\n",
            "Evaluation: 100%|██████████| 79/79 [00:03<00:00, 21.51it/s]\n"
          ]
        },
        {
          "output_type": "stream",
          "name": "stdout",
          "text": [
            "Train Loss: 0.4957, Train Acc: 82.32%\n",
            "Val Loss: 0.4662, Val Acc: 84.18%\n",
            "Epoch Time: 54.45s, Avg Batch Time: 128.10ms\n",
            "Current LR: 0.000377\n",
            "New best validation accuracy: 84.18%!\n",
            "\n",
            "Epoch 62/100\n"
          ]
        },
        {
          "output_type": "stream",
          "name": "stderr",
          "text": [
            "Training: 100%|██████████| 391/391 [00:55<00:00,  7.09it/s, loss=0.6396, acc=82.9%]\n",
            "Evaluation: 100%|██████████| 79/79 [00:03<00:00, 21.66it/s]\n"
          ]
        },
        {
          "output_type": "stream",
          "name": "stdout",
          "text": [
            "Train Loss: 0.4814, Train Acc: 82.92%\n",
            "Val Loss: 0.4823, Val Acc: 84.10%\n",
            "Epoch Time: 55.14s, Avg Batch Time: 130.19ms\n",
            "Current LR: 0.000361\n",
            "\n",
            "Epoch 63/100\n"
          ]
        },
        {
          "output_type": "stream",
          "name": "stderr",
          "text": [
            "Training: 100%|██████████| 391/391 [00:54<00:00,  7.12it/s, loss=0.3661, acc=83.0%]\n",
            "Evaluation: 100%|██████████| 79/79 [00:04<00:00, 19.07it/s]\n"
          ]
        },
        {
          "output_type": "stream",
          "name": "stdout",
          "text": [
            "Train Loss: 0.4793, Train Acc: 83.00%\n",
            "Val Loss: 0.4725, Val Acc: 84.17%\n",
            "Epoch Time: 54.95s, Avg Batch Time: 129.15ms\n",
            "Current LR: 0.000345\n",
            "\n",
            "Epoch 64/100\n"
          ]
        },
        {
          "output_type": "stream",
          "name": "stderr",
          "text": [
            "Training: 100%|██████████| 391/391 [00:55<00:00,  7.11it/s, loss=0.5886, acc=83.6%]\n",
            "Evaluation: 100%|██████████| 79/79 [00:03<00:00, 21.32it/s]\n"
          ]
        },
        {
          "output_type": "stream",
          "name": "stdout",
          "text": [
            "Train Loss: 0.4672, Train Acc: 83.61%\n",
            "Val Loss: 0.4729, Val Acc: 84.61%\n",
            "Epoch Time: 55.03s, Avg Batch Time: 129.44ms\n",
            "Current LR: 0.000330\n",
            "New best validation accuracy: 84.61%!\n",
            "\n",
            "Epoch 65/100\n"
          ]
        },
        {
          "output_type": "stream",
          "name": "stderr",
          "text": [
            "Training: 100%|██████████| 391/391 [00:55<00:00,  7.09it/s, loss=0.4179, acc=83.7%]\n",
            "Evaluation: 100%|██████████| 79/79 [00:03<00:00, 21.33it/s]\n"
          ]
        },
        {
          "output_type": "stream",
          "name": "stdout",
          "text": [
            "Train Loss: 0.4635, Train Acc: 83.72%\n",
            "Val Loss: 0.4695, Val Acc: 84.06%\n",
            "Epoch Time: 55.12s, Avg Batch Time: 129.27ms\n",
            "Current LR: 0.000314\n",
            "\n",
            "Epoch 66/100\n"
          ]
        },
        {
          "output_type": "stream",
          "name": "stderr",
          "text": [
            "Training: 100%|██████████| 391/391 [00:54<00:00,  7.15it/s, loss=0.2512, acc=83.5%]\n",
            "Evaluation: 100%|██████████| 79/79 [00:03<00:00, 20.32it/s]\n"
          ]
        },
        {
          "output_type": "stream",
          "name": "stdout",
          "text": [
            "Train Loss: 0.4629, Train Acc: 83.54%\n",
            "Val Loss: 0.4630, Val Acc: 84.63%\n",
            "Epoch Time: 54.65s, Avg Batch Time: 129.58ms\n",
            "Current LR: 0.000299\n",
            "New best validation accuracy: 84.63%!\n",
            "\n",
            "Epoch 67/100\n"
          ]
        },
        {
          "output_type": "stream",
          "name": "stderr",
          "text": [
            "Training: 100%|██████████| 391/391 [00:55<00:00,  7.09it/s, loss=0.5407, acc=84.3%]\n",
            "Evaluation: 100%|██████████| 79/79 [00:03<00:00, 21.08it/s]\n"
          ]
        },
        {
          "output_type": "stream",
          "name": "stdout",
          "text": [
            "Train Loss: 0.4470, Train Acc: 84.25%\n",
            "Val Loss: 0.4633, Val Acc: 84.92%\n",
            "Epoch Time: 55.13s, Avg Batch Time: 129.69ms\n",
            "Current LR: 0.000284\n",
            "New best validation accuracy: 84.92%!\n",
            "\n",
            "Epoch 68/100\n"
          ]
        },
        {
          "output_type": "stream",
          "name": "stderr",
          "text": [
            "Training: 100%|██████████| 391/391 [00:54<00:00,  7.12it/s, loss=0.6502, acc=84.4%]\n",
            "Evaluation: 100%|██████████| 79/79 [00:04<00:00, 19.64it/s]\n"
          ]
        },
        {
          "output_type": "stream",
          "name": "stdout",
          "text": [
            "Train Loss: 0.4416, Train Acc: 84.39%\n",
            "Val Loss: 0.4799, Val Acc: 84.60%\n",
            "Epoch Time: 54.91s, Avg Batch Time: 129.40ms\n",
            "Current LR: 0.000269\n",
            "\n",
            "Epoch 69/100\n"
          ]
        },
        {
          "output_type": "stream",
          "name": "stderr",
          "text": [
            "Training: 100%|██████████| 391/391 [00:54<00:00,  7.13it/s, loss=0.5204, acc=84.6%]\n",
            "Evaluation: 100%|██████████| 79/79 [00:03<00:00, 20.92it/s]\n"
          ]
        },
        {
          "output_type": "stream",
          "name": "stdout",
          "text": [
            "Train Loss: 0.4337, Train Acc: 84.58%\n",
            "Val Loss: 0.4612, Val Acc: 84.91%\n",
            "Epoch Time: 54.86s, Avg Batch Time: 128.75ms\n",
            "Current LR: 0.000255\n",
            "\n",
            "Epoch 70/100\n"
          ]
        },
        {
          "output_type": "stream",
          "name": "stderr",
          "text": [
            "Training: 100%|██████████| 391/391 [00:55<00:00,  7.10it/s, loss=0.4876, acc=84.9%]\n",
            "Evaluation: 100%|██████████| 79/79 [00:03<00:00, 21.43it/s]\n"
          ]
        },
        {
          "output_type": "stream",
          "name": "stdout",
          "text": [
            "Train Loss: 0.4237, Train Acc: 84.94%\n",
            "Val Loss: 0.4723, Val Acc: 84.98%\n",
            "Epoch Time: 55.07s, Avg Batch Time: 129.11ms\n",
            "Current LR: 0.000241\n",
            "New best validation accuracy: 84.98%!\n",
            "\n",
            "Epoch 71/100\n"
          ]
        },
        {
          "output_type": "stream",
          "name": "stderr",
          "text": [
            "Training: 100%|██████████| 391/391 [00:55<00:00,  7.10it/s, loss=0.5773, acc=85.4%]\n",
            "Evaluation: 100%|██████████| 79/79 [00:04<00:00, 19.19it/s]\n"
          ]
        },
        {
          "output_type": "stream",
          "name": "stdout",
          "text": [
            "Train Loss: 0.4154, Train Acc: 85.38%\n",
            "Val Loss: 0.4601, Val Acc: 85.30%\n",
            "Epoch Time: 55.05s, Avg Batch Time: 128.36ms\n",
            "Current LR: 0.000227\n",
            "New best validation accuracy: 85.30%!\n",
            "\n",
            "Epoch 72/100\n"
          ]
        },
        {
          "output_type": "stream",
          "name": "stderr",
          "text": [
            "Training: 100%|██████████| 391/391 [00:54<00:00,  7.13it/s, loss=0.4233, acc=85.5%]\n",
            "Evaluation: 100%|██████████| 79/79 [00:03<00:00, 21.35it/s]\n"
          ]
        },
        {
          "output_type": "stream",
          "name": "stdout",
          "text": [
            "Train Loss: 0.4115, Train Acc: 85.48%\n",
            "Val Loss: 0.4567, Val Acc: 85.47%\n",
            "Epoch Time: 54.86s, Avg Batch Time: 128.96ms\n",
            "Current LR: 0.000213\n",
            "New best validation accuracy: 85.47%!\n",
            "\n",
            "Epoch 73/100\n"
          ]
        },
        {
          "output_type": "stream",
          "name": "stderr",
          "text": [
            "Training: 100%|██████████| 391/391 [00:55<00:00,  7.08it/s, loss=0.2099, acc=85.8%]\n",
            "Evaluation: 100%|██████████| 79/79 [00:03<00:00, 21.27it/s]\n"
          ]
        },
        {
          "output_type": "stream",
          "name": "stdout",
          "text": [
            "Train Loss: 0.4015, Train Acc: 85.83%\n",
            "Val Loss: 0.4512, Val Acc: 85.57%\n",
            "Epoch Time: 55.20s, Avg Batch Time: 129.24ms\n",
            "Current LR: 0.000199\n",
            "New best validation accuracy: 85.57%!\n",
            "\n",
            "Epoch 74/100\n"
          ]
        },
        {
          "output_type": "stream",
          "name": "stderr",
          "text": [
            "Training: 100%|██████████| 391/391 [00:54<00:00,  7.12it/s, loss=0.3943, acc=86.0%]\n",
            "Evaluation: 100%|██████████| 79/79 [00:04<00:00, 19.33it/s]\n"
          ]
        },
        {
          "output_type": "stream",
          "name": "stdout",
          "text": [
            "Train Loss: 0.3963, Train Acc: 85.98%\n",
            "Val Loss: 0.4545, Val Acc: 85.56%\n",
            "Epoch Time: 54.93s, Avg Batch Time: 129.37ms\n",
            "Current LR: 0.000186\n",
            "\n",
            "Epoch 75/100\n"
          ]
        },
        {
          "output_type": "stream",
          "name": "stderr",
          "text": [
            "Training: 100%|██████████| 391/391 [00:54<00:00,  7.15it/s, loss=0.3331, acc=86.1%]\n",
            "Evaluation: 100%|██████████| 79/79 [00:03<00:00, 21.43it/s]\n"
          ]
        },
        {
          "output_type": "stream",
          "name": "stdout",
          "text": [
            "Train Loss: 0.3883, Train Acc: 86.09%\n",
            "Val Loss: 0.4538, Val Acc: 85.88%\n",
            "Epoch Time: 54.66s, Avg Batch Time: 128.49ms\n",
            "Current LR: 0.000174\n",
            "New best validation accuracy: 85.88%!\n",
            "\n",
            "Epoch 76/100\n"
          ]
        },
        {
          "output_type": "stream",
          "name": "stderr",
          "text": [
            "Training: 100%|██████████| 391/391 [00:55<00:00,  7.06it/s, loss=0.3599, acc=86.4%]\n",
            "Evaluation: 100%|██████████| 79/79 [00:03<00:00, 21.53it/s]\n"
          ]
        },
        {
          "output_type": "stream",
          "name": "stdout",
          "text": [
            "Train Loss: 0.3866, Train Acc: 86.35%\n",
            "Val Loss: 0.4623, Val Acc: 85.23%\n",
            "Epoch Time: 55.36s, Avg Batch Time: 129.99ms\n",
            "Current LR: 0.000161\n",
            "\n",
            "Epoch 77/100\n"
          ]
        },
        {
          "output_type": "stream",
          "name": "stderr",
          "text": [
            "Training: 100%|██████████| 391/391 [00:55<00:00,  7.10it/s, loss=0.3453, acc=86.4%]\n",
            "Evaluation: 100%|██████████| 79/79 [00:04<00:00, 18.87it/s]\n"
          ]
        },
        {
          "output_type": "stream",
          "name": "stdout",
          "text": [
            "Train Loss: 0.3818, Train Acc: 86.44%\n",
            "Val Loss: 0.4621, Val Acc: 85.28%\n",
            "Epoch Time: 55.05s, Avg Batch Time: 129.03ms\n",
            "Current LR: 0.000149\n",
            "\n",
            "Epoch 78/100\n"
          ]
        },
        {
          "output_type": "stream",
          "name": "stderr",
          "text": [
            "Training: 100%|██████████| 391/391 [00:54<00:00,  7.12it/s, loss=0.3519, acc=86.8%]\n",
            "Evaluation: 100%|██████████| 79/79 [00:03<00:00, 21.63it/s]\n"
          ]
        },
        {
          "output_type": "stream",
          "name": "stdout",
          "text": [
            "Train Loss: 0.3736, Train Acc: 86.78%\n",
            "Val Loss: 0.4615, Val Acc: 85.52%\n",
            "Epoch Time: 54.93s, Avg Batch Time: 129.41ms\n",
            "Current LR: 0.000138\n",
            "\n",
            "Epoch 79/100\n"
          ]
        },
        {
          "output_type": "stream",
          "name": "stderr",
          "text": [
            "Training: 100%|██████████| 391/391 [00:55<00:00,  7.09it/s, loss=0.4547, acc=87.1%]\n",
            "Evaluation: 100%|██████████| 79/79 [00:03<00:00, 21.04it/s]\n"
          ]
        },
        {
          "output_type": "stream",
          "name": "stdout",
          "text": [
            "Train Loss: 0.3675, Train Acc: 87.07%\n",
            "Val Loss: 0.4647, Val Acc: 85.65%\n",
            "Epoch Time: 55.16s, Avg Batch Time: 129.34ms\n",
            "Current LR: 0.000127\n",
            "\n",
            "Epoch 80/100\n"
          ]
        },
        {
          "output_type": "stream",
          "name": "stderr",
          "text": [
            "Training: 100%|██████████| 391/391 [00:54<00:00,  7.14it/s, loss=0.2508, acc=87.0%]\n",
            "Evaluation: 100%|██████████| 79/79 [00:04<00:00, 19.41it/s]\n"
          ]
        },
        {
          "output_type": "stream",
          "name": "stdout",
          "text": [
            "Train Loss: 0.3639, Train Acc: 87.02%\n",
            "Val Loss: 0.4585, Val Acc: 85.64%\n",
            "Epoch Time: 54.79s, Avg Batch Time: 129.18ms\n",
            "Current LR: 0.000116\n",
            "\n",
            "Epoch 81/100\n"
          ]
        },
        {
          "output_type": "stream",
          "name": "stderr",
          "text": [
            "Training: 100%|██████████| 391/391 [00:55<00:00,  7.08it/s, loss=0.4741, acc=87.3%]\n",
            "Evaluation: 100%|██████████| 79/79 [00:03<00:00, 20.49it/s]\n"
          ]
        },
        {
          "output_type": "stream",
          "name": "stdout",
          "text": [
            "Train Loss: 0.3577, Train Acc: 87.31%\n",
            "Val Loss: 0.4548, Val Acc: 85.95%\n",
            "Epoch Time: 55.26s, Avg Batch Time: 129.35ms\n",
            "Current LR: 0.000105\n",
            "New best validation accuracy: 85.95%!\n",
            "\n",
            "Epoch 82/100\n"
          ]
        },
        {
          "output_type": "stream",
          "name": "stderr",
          "text": [
            "Training: 100%|██████████| 391/391 [00:55<00:00,  7.08it/s, loss=0.3213, acc=87.4%]\n",
            "Evaluation: 100%|██████████| 79/79 [00:04<00:00, 19.64it/s]\n"
          ]
        },
        {
          "output_type": "stream",
          "name": "stdout",
          "text": [
            "Train Loss: 0.3546, Train Acc: 87.37%\n",
            "Val Loss: 0.4457, Val Acc: 86.17%\n",
            "Epoch Time: 55.24s, Avg Batch Time: 129.57ms\n",
            "Current LR: 0.000095\n",
            "New best validation accuracy: 86.17%!\n",
            "\n",
            "Epoch 83/100\n"
          ]
        },
        {
          "output_type": "stream",
          "name": "stderr",
          "text": [
            "Training: 100%|██████████| 391/391 [00:54<00:00,  7.15it/s, loss=0.4274, acc=87.7%]\n",
            "Evaluation: 100%|██████████| 79/79 [00:03<00:00, 21.37it/s]\n"
          ]
        },
        {
          "output_type": "stream",
          "name": "stdout",
          "text": [
            "Train Loss: 0.3453, Train Acc: 87.67%\n",
            "Val Loss: 0.4564, Val Acc: 85.88%\n",
            "Epoch Time: 54.66s, Avg Batch Time: 128.48ms\n",
            "Current LR: 0.000086\n",
            "\n",
            "Epoch 84/100\n"
          ]
        },
        {
          "output_type": "stream",
          "name": "stderr",
          "text": [
            "Training: 100%|██████████| 391/391 [00:55<00:00,  7.09it/s, loss=0.2331, acc=87.8%]\n",
            "Evaluation: 100%|██████████| 79/79 [00:03<00:00, 21.41it/s]\n"
          ]
        },
        {
          "output_type": "stream",
          "name": "stdout",
          "text": [
            "Train Loss: 0.3440, Train Acc: 87.83%\n",
            "Val Loss: 0.4526, Val Acc: 85.98%\n",
            "Epoch Time: 55.19s, Avg Batch Time: 129.67ms\n",
            "Current LR: 0.000077\n",
            "\n",
            "Epoch 85/100\n"
          ]
        },
        {
          "output_type": "stream",
          "name": "stderr",
          "text": [
            "Training: 100%|██████████| 391/391 [00:54<00:00,  7.15it/s, loss=0.3618, acc=88.0%]\n",
            "Evaluation: 100%|██████████| 79/79 [00:04<00:00, 18.47it/s]\n"
          ]
        },
        {
          "output_type": "stream",
          "name": "stdout",
          "text": [
            "Train Loss: 0.3398, Train Acc: 87.99%\n",
            "Val Loss: 0.4620, Val Acc: 85.86%\n",
            "Epoch Time: 54.66s, Avg Batch Time: 128.68ms\n",
            "Current LR: 0.000068\n",
            "\n",
            "Epoch 86/100\n"
          ]
        },
        {
          "output_type": "stream",
          "name": "stderr",
          "text": [
            "Training: 100%|██████████| 391/391 [00:54<00:00,  7.16it/s, loss=0.3809, acc=88.1%]\n",
            "Evaluation: 100%|██████████| 79/79 [00:03<00:00, 21.35it/s]\n"
          ]
        },
        {
          "output_type": "stream",
          "name": "stdout",
          "text": [
            "Train Loss: 0.3349, Train Acc: 88.08%\n",
            "Val Loss: 0.4601, Val Acc: 85.89%\n",
            "Epoch Time: 54.63s, Avg Batch Time: 128.77ms\n",
            "Current LR: 0.000060\n",
            "\n",
            "Epoch 87/100\n"
          ]
        },
        {
          "output_type": "stream",
          "name": "stderr",
          "text": [
            "Training: 100%|██████████| 391/391 [00:54<00:00,  7.13it/s, loss=0.3131, acc=88.2%]\n",
            "Evaluation: 100%|██████████| 79/79 [00:03<00:00, 21.58it/s]\n"
          ]
        },
        {
          "output_type": "stream",
          "name": "stdout",
          "text": [
            "Train Loss: 0.3320, Train Acc: 88.24%\n",
            "Val Loss: 0.4536, Val Acc: 86.17%\n",
            "Epoch Time: 54.87s, Avg Batch Time: 129.33ms\n",
            "Current LR: 0.000053\n",
            "\n",
            "Epoch 88/100\n"
          ]
        },
        {
          "output_type": "stream",
          "name": "stderr",
          "text": [
            "Training: 100%|██████████| 391/391 [00:54<00:00,  7.16it/s, loss=0.4048, acc=88.1%]\n",
            "Evaluation: 100%|██████████| 79/79 [00:03<00:00, 19.80it/s]\n"
          ]
        },
        {
          "output_type": "stream",
          "name": "stdout",
          "text": [
            "Train Loss: 0.3308, Train Acc: 88.08%\n",
            "Val Loss: 0.4445, Val Acc: 86.26%\n",
            "Epoch Time: 54.64s, Avg Batch Time: 128.46ms\n",
            "Current LR: 0.000045\n",
            "New best validation accuracy: 86.26%!\n",
            "\n",
            "Epoch 89/100\n"
          ]
        },
        {
          "output_type": "stream",
          "name": "stderr",
          "text": [
            "Training: 100%|██████████| 391/391 [00:54<00:00,  7.17it/s, loss=0.3085, acc=88.4%]\n",
            "Evaluation: 100%|██████████| 79/79 [00:03<00:00, 21.66it/s]\n"
          ]
        },
        {
          "output_type": "stream",
          "name": "stdout",
          "text": [
            "Train Loss: 0.3294, Train Acc: 88.37%\n",
            "Val Loss: 0.4546, Val Acc: 86.12%\n",
            "Epoch Time: 54.52s, Avg Batch Time: 128.19ms\n",
            "Current LR: 0.000039\n",
            "\n",
            "Epoch 90/100\n"
          ]
        },
        {
          "output_type": "stream",
          "name": "stderr",
          "text": [
            "Training: 100%|██████████| 391/391 [00:54<00:00,  7.13it/s, loss=0.3649, acc=88.5%]\n",
            "Evaluation: 100%|██████████| 79/79 [00:03<00:00, 20.08it/s]\n"
          ]
        },
        {
          "output_type": "stream",
          "name": "stdout",
          "text": [
            "Train Loss: 0.3244, Train Acc: 88.49%\n",
            "Val Loss: 0.4511, Val Acc: 86.18%\n",
            "Epoch Time: 54.85s, Avg Batch Time: 128.88ms\n",
            "Current LR: 0.000033\n",
            "\n",
            "Epoch 91/100\n"
          ]
        },
        {
          "output_type": "stream",
          "name": "stderr",
          "text": [
            "Training: 100%|██████████| 391/391 [00:54<00:00,  7.15it/s, loss=0.2724, acc=88.7%]\n",
            "Evaluation: 100%|██████████| 79/79 [00:03<00:00, 21.52it/s]\n"
          ]
        },
        {
          "output_type": "stream",
          "name": "stdout",
          "text": [
            "Train Loss: 0.3207, Train Acc: 88.74%\n",
            "Val Loss: 0.4556, Val Acc: 86.28%\n",
            "Epoch Time: 54.67s, Avg Batch Time: 128.48ms\n",
            "Current LR: 0.000027\n",
            "New best validation accuracy: 86.28%!\n",
            "\n",
            "Epoch 92/100\n"
          ]
        },
        {
          "output_type": "stream",
          "name": "stderr",
          "text": [
            "Training: 100%|██████████| 391/391 [00:55<00:00,  7.09it/s, loss=0.1930, acc=88.7%]\n",
            "Evaluation: 100%|██████████| 79/79 [00:03<00:00, 21.25it/s]\n"
          ]
        },
        {
          "output_type": "stream",
          "name": "stdout",
          "text": [
            "Train Loss: 0.3198, Train Acc: 88.67%\n",
            "Val Loss: 0.4532, Val Acc: 86.45%\n",
            "Epoch Time: 55.17s, Avg Batch Time: 128.56ms\n",
            "Current LR: 0.000022\n",
            "New best validation accuracy: 86.45%!\n",
            "\n",
            "Epoch 93/100\n"
          ]
        },
        {
          "output_type": "stream",
          "name": "stderr",
          "text": [
            "Training: 100%|██████████| 391/391 [00:54<00:00,  7.12it/s, loss=0.1706, acc=88.7%]\n",
            "Evaluation: 100%|██████████| 79/79 [00:04<00:00, 18.57it/s]\n"
          ]
        },
        {
          "output_type": "stream",
          "name": "stdout",
          "text": [
            "Train Loss: 0.3163, Train Acc: 88.66%\n",
            "Val Loss: 0.4497, Val Acc: 86.30%\n",
            "Epoch Time: 54.91s, Avg Batch Time: 128.56ms\n",
            "Current LR: 0.000017\n",
            "\n",
            "Epoch 94/100\n"
          ]
        },
        {
          "output_type": "stream",
          "name": "stderr",
          "text": [
            "Training: 100%|██████████| 391/391 [00:54<00:00,  7.16it/s, loss=0.3584, acc=89.0%]\n",
            "Evaluation: 100%|██████████| 79/79 [00:03<00:00, 21.08it/s]\n"
          ]
        },
        {
          "output_type": "stream",
          "name": "stdout",
          "text": [
            "Train Loss: 0.3118, Train Acc: 89.02%\n",
            "Val Loss: 0.4479, Val Acc: 86.48%\n",
            "Epoch Time: 54.61s, Avg Batch Time: 128.48ms\n",
            "Current LR: 0.000013\n",
            "New best validation accuracy: 86.48%!\n",
            "\n",
            "Epoch 95/100\n"
          ]
        },
        {
          "output_type": "stream",
          "name": "stderr",
          "text": [
            "Training: 100%|██████████| 391/391 [00:55<00:00,  7.09it/s, loss=0.2183, acc=88.7%]\n",
            "Evaluation: 100%|██████████| 79/79 [00:03<00:00, 21.74it/s]\n"
          ]
        },
        {
          "output_type": "stream",
          "name": "stdout",
          "text": [
            "Train Loss: 0.3172, Train Acc: 88.74%\n",
            "Val Loss: 0.4509, Val Acc: 86.40%\n",
            "Epoch Time: 55.11s, Avg Batch Time: 129.50ms\n",
            "Current LR: 0.000010\n",
            "\n",
            "Epoch 96/100\n"
          ]
        },
        {
          "output_type": "stream",
          "name": "stderr",
          "text": [
            "Training: 100%|██████████| 391/391 [00:54<00:00,  7.17it/s, loss=0.2804, acc=88.8%]\n",
            "Evaluation: 100%|██████████| 79/79 [00:04<00:00, 19.47it/s]\n"
          ]
        },
        {
          "output_type": "stream",
          "name": "stdout",
          "text": [
            "Train Loss: 0.3151, Train Acc: 88.82%\n",
            "Val Loss: 0.4517, Val Acc: 86.35%\n",
            "Epoch Time: 54.51s, Avg Batch Time: 128.81ms\n",
            "Current LR: 0.000007\n",
            "\n",
            "Epoch 97/100\n"
          ]
        },
        {
          "output_type": "stream",
          "name": "stderr",
          "text": [
            "Training: 100%|██████████| 391/391 [00:54<00:00,  7.16it/s, loss=0.3742, acc=88.9%]\n",
            "Evaluation: 100%|██████████| 79/79 [00:03<00:00, 21.58it/s]\n"
          ]
        },
        {
          "output_type": "stream",
          "name": "stdout",
          "text": [
            "Train Loss: 0.3098, Train Acc: 88.94%\n",
            "Val Loss: 0.4520, Val Acc: 86.42%\n",
            "Epoch Time: 54.60s, Avg Batch Time: 128.48ms\n",
            "Current LR: 0.000004\n",
            "\n",
            "Epoch 98/100\n"
          ]
        },
        {
          "output_type": "stream",
          "name": "stderr",
          "text": [
            "Training: 100%|██████████| 391/391 [00:54<00:00,  7.13it/s, loss=0.3228, acc=88.8%]\n",
            "Evaluation: 100%|██████████| 79/79 [00:03<00:00, 20.20it/s]\n"
          ]
        },
        {
          "output_type": "stream",
          "name": "stdout",
          "text": [
            "Train Loss: 0.3156, Train Acc: 88.84%\n",
            "Val Loss: 0.4512, Val Acc: 86.40%\n",
            "Epoch Time: 54.85s, Avg Batch Time: 128.78ms\n",
            "Current LR: 0.000002\n",
            "\n",
            "Epoch 99/100\n"
          ]
        },
        {
          "output_type": "stream",
          "name": "stderr",
          "text": [
            "Training: 100%|██████████| 391/391 [00:54<00:00,  7.16it/s, loss=0.2449, acc=88.8%]\n",
            "Evaluation: 100%|██████████| 79/79 [00:03<00:00, 21.47it/s]\n"
          ]
        },
        {
          "output_type": "stream",
          "name": "stdout",
          "text": [
            "Train Loss: 0.3134, Train Acc: 88.85%\n",
            "Val Loss: 0.4515, Val Acc: 86.41%\n",
            "Epoch Time: 54.60s, Avg Batch Time: 128.85ms\n",
            "Current LR: 0.000001\n",
            "\n",
            "Epoch 100/100\n"
          ]
        },
        {
          "output_type": "stream",
          "name": "stderr",
          "text": [
            "Training: 100%|██████████| 391/391 [00:55<00:00,  7.09it/s, loss=0.3685, acc=89.1%]\n",
            "Evaluation: 100%|██████████| 79/79 [00:03<00:00, 21.33it/s]\n"
          ]
        },
        {
          "output_type": "stream",
          "name": "stdout",
          "text": [
            "Train Loss: 0.3075, Train Acc: 89.13%\n",
            "Val Loss: 0.4514, Val Acc: 86.39%\n",
            "Epoch Time: 55.11s, Avg Batch Time: 129.33ms\n",
            "Current LR: 0.000000\n",
            "\n",
            "=== Training complete ===\n",
            "Total training time: 5468.17s\n",
            "Best validation accuracy: 86.48%\n",
            "\n",
            "Generating training plots...\n",
            "\n",
            "Loading best model for final evaluation...\n",
            "Calculating detailed metrics...\n"
          ]
        },
        {
          "output_type": "stream",
          "name": "stderr",
          "text": [
            "Evaluation: 100%|██████████| 79/79 [00:03<00:00, 21.73it/s]\n",
            "/usr/local/lib/python3.11/dist-packages/torch/utils/data/dataloader.py:624: UserWarning: This DataLoader will create 4 worker processes in total. Our suggested max number of worker in current system is 2, which is smaller than what this DataLoader is going to create. Please be aware that excessive worker creation might get DataLoader running slow or even freeze, lower the worker number to avoid potential slowness/freeze if necessary.\n",
            "  warnings.warn(\n"
          ]
        },
        {
          "output_type": "stream",
          "name": "stdout",
          "text": [
            "Metrics exported to metrics/ViT_20250413_200124.csv\n",
            "Summary metrics added to metrics/model_comparison.csv\n",
            "Best validation accuracy: 86.48%\n",
            "Setting up datasets...\n",
            "Loaded 50000 training and 10000 validation samples\n",
            "Visualizing attention maps\n"
          ]
        },
        {
          "output_type": "stream",
          "name": "stderr",
          "text": [
            "/usr/local/lib/python3.11/dist-packages/torch/utils/data/dataloader.py:624: UserWarning: This DataLoader will create 4 worker processes in total. Our suggested max number of worker in current system is 2, which is smaller than what this DataLoader is going to create. Please be aware that excessive worker creation might get DataLoader running slow or even freeze, lower the worker number to avoid potential slowness/freeze if necessary.\n",
            "  warnings.warn(\n"
          ]
        },
        {
          "output_type": "display_data",
          "data": {
            "text/plain": [
              "<Figure size 1000x800 with 2 Axes>"
            ],
            "image/png": "[encoded data removed]"
          },
          "metadata": {}
        },
        {
          "output_type": "display_data",
          "data": {
            "text/plain": [
              "<Figure size 1200x600 with 1 Axes>"
            ],
            "image/png": "[encoded data removed]"
          },
          "metadata": {}
        },
        {
          "output_type": "display_data",
          "data": {
            "text/plain": [
              "<Figure size 1200x1000 with 1 Axes>"
            ],
            "image/png": "[encoded data removed]"
          },
          "metadata": {}
        }
      ]
    },
    {
      "cell_type": "markdown",
      "source": [
        "# VIT inference"
      ],
      "metadata": {
        "id": "8R3Xh28vsb0l"
      }
    },
    {
      "cell_type": "markdown",
      "source": [
        "**Imports and setup**"
      ],
      "metadata": {
        "id": "IVHapPdtuVpB"
      }
    },
    {
      "cell_type": "code",
      "source": [
        "!pip install -q matplotlib torchvision  # -q to avoid flooding the output\n",
        "\n",
        "# Import all the stuff we need\n",
        "import torch\n",
        "import torch.nn as nn\n",
        "import torch.nn.functional as F\n",
        "import numpy as np\n",
        "import matplotlib.pyplot as plt\n",
        "from PIL import Image\n",
        "import io\n",
        "from google.colab import files\n",
        "import os\n",
        "from torchvision import transforms\n",
        "\n",
        "# Check if we have a GPU ,infernce on gpu is better\n",
        "device = torch.device('cuda' if torch.cuda.is_available() else 'cpu')\n",
        "print(f\"Using device: {device}\")\n",
        "if device.type == 'cpu':\n",
        "    print(\"Warning: slow without GPU acceleration!\")\n",
        "\n",
        "# CIFAR-10 class names\n",
        "CLASSES = ['airplane', 'automobile', 'bird', 'cat', 'deer',\n",
        "           'dog', 'frog', 'horse', 'ship', 'truck']"
      ],
      "metadata": {
        "colab": {
          "base_uri": "https://localhost:8080/"
        },
        "id": "nl7ZwjFlsjkX",
        "outputId": "3eff343c-e491-432b-db7a-6352f47e5b75"
      },
      "execution_count": null,
      "outputs": [
        {
          "output_type": "stream",
          "name": "stdout",
          "text": [
            "\u001b[2K   \u001b[90m━━━━━━━━━━━━━━━━━━━━━━━━━━━━━━━━━━━━━━━━\u001b[0m \u001b[32m363.4/363.4 MB\u001b[0m \u001b[31m1.3 MB/s\u001b[0m eta \u001b[36m0:00:00\u001b[0m\n",
            "\u001b[2K   \u001b[90m━━━━━━━━━━━━━━━━━━━━━━━━━━━━━━━━━━━━━━━━\u001b[0m \u001b[32m13.8/13.8 MB\u001b[0m \u001b[31m61.9 MB/s\u001b[0m eta \u001b[36m0:00:00\u001b[0m\n",
            "\u001b[2K   \u001b[90m━━━━━━━━━━━━━━━━━━━━━━━━━━━━━━━━━━━━━━━━\u001b[0m \u001b[32m24.6/24.6 MB\u001b[0m \u001b[31m49.0 MB/s\u001b[0m eta \u001b[36m0:00:00\u001b[0m\n",
            "\u001b[2K   \u001b[90m━━━━━━━━━━━━━━━━━━━━━━━━━━━━━━━━━━━━━━━━\u001b[0m \u001b[32m883.7/883.7 kB\u001b[0m \u001b[31m35.6 MB/s\u001b[0m eta \u001b[36m0:00:00\u001b[0m\n",
            "\u001b[2K   \u001b[90m━━━━━━━━━━━━━━━━━━━━━━━━━━━━━━━━━━━━━━━━\u001b[0m \u001b[32m664.8/664.8 MB\u001b[0m \u001b[31m2.6 MB/s\u001b[0m eta \u001b[36m0:00:00\u001b[0m\n",
            "\u001b[2K   \u001b[90m━━━━━━━━━━━━━━━━━━━━━━━━━━━━━━━━━━━━━━━━\u001b[0m \u001b[32m211.5/211.5 MB\u001b[0m \u001b[31m5.3 MB/s\u001b[0m eta \u001b[36m0:00:00\u001b[0m\n",
            "\u001b[2K   \u001b[90m━━━━━━━━━━━━━━━━━━━━━━━━━━━━━━━━━━━━━━━━\u001b[0m \u001b[32m56.3/56.3 MB\u001b[0m \u001b[31m10.9 MB/s\u001b[0m eta \u001b[36m0:00:00\u001b[0m\n",
            "\u001b[2K   \u001b[90m━━━━━━━━━━━━━━━━━━━━━━━━━━━━━━━━━━━━━━━━\u001b[0m \u001b[32m127.9/127.9 MB\u001b[0m \u001b[31m7.4 MB/s\u001b[0m eta \u001b[36m0:00:00\u001b[0m\n",
            "\u001b[2K   \u001b[90m━━━━━━━━━━━━━━━━━━━━━━━━━━━━━━━━━━━━━━━━\u001b[0m \u001b[32m207.5/207.5 MB\u001b[0m \u001b[31m5.9 MB/s\u001b[0m eta \u001b[36m0:00:00\u001b[0m\n",
            "\u001b[2K   \u001b[90m━━━━━━━━━━━━━━━━━━━━━━━━━━━━━━━━━━━━━━━━\u001b[0m \u001b[32m21.1/21.1 MB\u001b[0m \u001b[31m65.6 MB/s\u001b[0m eta \u001b[36m0:00:00\u001b[0m\n",
            "\u001b[?25hUsing device: cpu\n",
            "Warning: slow without GPU acceleration!\n"
          ]
        }
      ]
    },
    {
      "cell_type": "markdown",
      "source": [
        "**Patch embedding module**"
      ],
      "metadata": {
        "id": "h9hDeGPZudqM"
      }
    },
    {
      "cell_type": "code",
      "source": [
        "# Patch Embedding Module\n",
        "class PatchEmbed(nn.Module):\n",
        "    \"\"\" Image to Patch Embedding - splits the image into patches \"\"\"\n",
        "    def __init__(self, img_size=32, patch_size=4, in_chans=3, embed_dim=192):\n",
        "        super().__init__()\n",
        "        self.img_size = img_size\n",
        "        self.patch_size = patch_size\n",
        "        self.n_patches = (img_size // patch_size) ** 2  # number of patches\n",
        "\n",
        "        # This conv does the patch embedding - simpler than manual reshaping\n",
        "        # Tried using nn.Unfold first but conv is cleaner\n",
        "        self.proj = nn.Conv2d(in_chans, embed_dim, kernel_size=patch_size, stride=patch_size)\n",
        "\n",
        "    def forward(self, x):\n",
        "        B, C, H, W = x.shape\n",
        "        # Make sure image size is right - this saved me once when I fed in 224px images!\n",
        "        assert H == self.img_size and W == self.img_size, \\\n",
        "            f\"Input image size ({H}*{W}) doesn't match model ({self.img_size}*{self.img_size})\"\n",
        "\n",
        "        # (B, C, H, W) -> (B, E, H//P, W//P) -> (B, E, N) -> (B, N, E)\n",
        "        x = self.proj(x).flatten(2).transpose(1, 2)\n",
        "        return x"
      ],
      "metadata": {
        "id": "QTTeAp_etja1"
      },
      "execution_count": null,
      "outputs": []
    },
    {
      "cell_type": "markdown",
      "source": [
        "**Attention module**"
      ],
      "metadata": {
        "id": "2ufhPkn8ui1h"
      }
    },
    {
      "cell_type": "code",
      "source": [
        "# Attention Module\n",
        "class Attention(nn.Module):\n",
        "    def __init__(self, dim, num_heads=8, qkv_bias=True, attn_drop=0., proj_drop=0.):\n",
        "        super().__init__()\n",
        "        self.num_heads = num_heads\n",
        "        head_dim = dim // num_heads\n",
        "        # Scale factor - super important! Training explodes without this\n",
        "        self.scale = head_dim ** -0.5\n",
        "\n",
        "        # Combined QKV projection - faster than separate projections\n",
        "        self.qkv = nn.Linear(dim, dim * 3, bias=qkv_bias)\n",
        "        self.attn_drop = nn.Dropout(attn_drop)\n",
        "        self.proj = nn.Linear(dim, dim)\n",
        "        self.proj_drop = nn.Dropout(proj_drop)\n",
        "\n",
        "        # Tried adding a parameter here to control attention strength\n",
        "        # but it didn't really help\n",
        "        #self.attn_scale = nn.Parameter(torch.ones(1))\n",
        "\n",
        "    def forward(self, x):\n",
        "        B, N, C = x.shape\n",
        "        # This reshape is tricky but important for multi-head attention\n",
        "        qkv = self.qkv(x).reshape(B, N, 3, self.num_heads, C // self.num_heads).permute(2, 0, 3, 1, 4)\n",
        "        q, k, v = qkv[0], qkv[1], qkv[2]  # separate Q, K, V\n",
        "\n",
        "        # Compute attention scores - (B, H, N, N)\n",
        "        attn = (q @ k.transpose(-2, -1)) * self.scale\n",
        "        #attn = attn * self.attn_scale  # optional extra scaling (commented out)\n",
        "        attn = attn.softmax(dim=-1)\n",
        "        attn = self.attn_drop(attn)\n",
        "\n",
        "        # Apply attention to values\n",
        "        x = (attn @ v).transpose(1, 2).reshape(B, N, C)\n",
        "        x = self.proj(x)\n",
        "        x = self.proj_drop(x)\n",
        "        return x, attn  # return attention weights for visualization"
      ],
      "metadata": {
        "id": "xINO29M_tou8"
      },
      "execution_count": null,
      "outputs": []
    },
    {
      "cell_type": "markdown",
      "source": [
        "**MLP module**"
      ],
      "metadata": {
        "id": "foIQzXTTuuLh"
      }
    },
    {
      "cell_type": "code",
      "source": [
        "# MLP Module\n",
        "class MLP(nn.Module):\n",
        "    def __init__(self, in_features, hidden_features=None, out_features=None, drop=0.):\n",
        "        super().__init__()\n",
        "        out_features = out_features or in_features\n",
        "        hidden_features = hidden_features or in_features\n",
        "        self.fc1 = nn.Linear(in_features, hidden_features)\n",
        "        self.act = nn.GELU()  # GELU > ReLU for transformers, apparently\n",
        "        self.fc2 = nn.Linear(hidden_features, out_features)\n",
        "        self.drop = nn.Dropout(drop)\n",
        "\n",
        "        # Debug flag for printing layer activations\n",
        "        self.debug = False\n",
        "\n",
        "    def forward(self, x):\n",
        "        x = self.fc1(x)\n",
        "        x = self.act(x)\n",
        "\n",
        "        # Optional debugging\n",
        "        if self.debug and torch.rand(1).item() < 0.01:  # only print occasionally\n",
        "            print(f\"MLP activations: mean={x.mean().item():.3f}, std={x.std().item():.3f}\")\n",
        "\n",
        "        x = self.drop(x)\n",
        "        x = self.fc2(x)\n",
        "        x = self.drop(x)\n",
        "        return x"
      ],
      "metadata": {
        "id": "ATD5Pgm3trN-"
      },
      "execution_count": null,
      "outputs": []
    },
    {
      "cell_type": "markdown",
      "source": [
        "**Transformer block**"
      ],
      "metadata": {
        "id": "H5S70K_VuzAQ"
      }
    },
    {
      "cell_type": "code",
      "source": [
        "# Transformer Block\n",
        "class Block(nn.Module):\n",
        "    def __init__(self, dim, num_heads, mlp_ratio=4., qkv_bias=True, drop=0., attn_drop=0.):\n",
        "        super().__init__()\n",
        "        self.norm1 = nn.LayerNorm(dim)\n",
        "        self.attn = Attention(dim, num_heads=num_heads, qkv_bias=qkv_bias,\n",
        "                             attn_drop=attn_drop, proj_drop=drop)\n",
        "        self.norm2 = nn.LayerNorm(dim)\n",
        "        self.mlp = MLP(in_features=dim, hidden_features=int(dim * mlp_ratio), drop=drop)\n",
        "\n",
        "        # Could add a stochastic depth (drop path) here for regularization\n",
        "        # But it's not necessary for inference\n",
        "\n",
        "    def forward(self, x):\n",
        "        # Pre-norm architecture - more stable than post-norm\n",
        "        norm_x = self.norm1(x)\n",
        "        attn_output, attn_weights = self.attn(norm_x)\n",
        "        x = x + attn_output  # residual connection\n",
        "        x = x + self.mlp(self.norm2(x))  # another residual\n",
        "        return x, attn_weights"
      ],
      "metadata": {
        "id": "LjtXdyVEtz97"
      },
      "execution_count": null,
      "outputs": []
    },
    {
      "cell_type": "markdown",
      "source": [
        "**Complete Vision Transformer model**"
      ],
      "metadata": {
        "id": "UevDE_mVu1pL"
      }
    },
    {
      "cell_type": "code",
      "source": [
        "# Vision Transformer Model\n",
        "class VisionTransformer(nn.Module):\n",
        "    def __init__(self, img_size=32, patch_size=4, in_chans=3, num_classes=10, embed_dim=192, depth=9,\n",
        "                 num_heads=8, mlp_ratio=4., qkv_bias=True, drop_rate=0., attn_drop_rate=0.):\n",
        "        super().__init__()\n",
        "        self.num_classes = num_classes\n",
        "        self.num_features = self.embed_dim = embed_dim\n",
        "        self.img_size = img_size\n",
        "        self.patch_size = patch_size\n",
        "\n",
        "\n",
        "        # Patch embedding\n",
        "        self.patch_embed = PatchEmbed(img_size=img_size, patch_size=patch_size,\n",
        "                                      in_chans=in_chans, embed_dim=embed_dim)\n",
        "        num_patches = self.patch_embed.n_patches\n",
        "\n",
        "        self.cls_token = nn.Parameter(torch.zeros(1, 1, embed_dim))\n",
        "\n",
        "        # Position embedding\n",
        "        self.pos_embed = nn.Parameter(torch.zeros(1, num_patches + 1, embed_dim))\n",
        "        # Could use fixed sinusoidal embeddings, but learned ones seem better\n",
        "\n",
        "        self.pos_drop = nn.Dropout(p=drop_rate)\n",
        "\n",
        "        # Transformer blocks - stack of identical blocks\n",
        "        self.blocks = nn.ModuleList([\n",
        "            Block(\n",
        "                dim=embed_dim, num_heads=num_heads, mlp_ratio=mlp_ratio, qkv_bias=qkv_bias,\n",
        "                drop=drop_rate, attn_drop=attn_drop_rate)\n",
        "            for i in range(depth)])\n",
        "\n",
        "        # Normalization and classification head\n",
        "        self.norm = nn.LayerNorm(embed_dim)\n",
        "        self.head = nn.Linear(embed_dim, num_classes)\n",
        "\n",
        "        # Could use different pooling strategies:\n",
        "        # 1. CLS token (what we're using)\n",
        "        # 2. Mean pooling over all tokens\n",
        "        # 3. Both concatenated\n",
        "        # But CLS token works best in most cases\n",
        "\n",
        "    def forward(self, x):\n",
        "        # Patch embedding [B, N, E]\n",
        "        x = self.patch_embed(x)\n",
        "        B = x.shape[0]\n",
        "\n",
        "        # Append class token\n",
        "        cls_tokens = self.cls_token.expand(B, -1, -1)\n",
        "        x = torch.cat((cls_tokens, x), dim=1)\n",
        "\n",
        "        # Add position embeddings\n",
        "        x = x + self.pos_embed\n",
        "        x = self.pos_drop(x)\n",
        "\n",
        "        # Storage for visualization\n",
        "        attn_weights = None\n",
        "\n",
        "        # Apply transformer blocks - save attention from last block\n",
        "        for i, block in enumerate(self.blocks[:-1]):\n",
        "            x, _ = block(x)\n",
        "            # Could save intermediate features here\n",
        "            # if i == len(self.blocks) // 2:\n",
        "            #     mid_features = x\n",
        "\n",
        "        # Last block - save attention weights for visualization\n",
        "        x, attn_weights = self.blocks[-1](x)\n",
        "\n",
        "        # Apply final normalization\n",
        "        x = self.norm(x)\n",
        "\n",
        "        # Use class token for classification\n",
        "        x = self.head(x[:, 0])\n",
        "\n",
        "        return x, attn_weights\n",
        "\n",
        "    # Unused sinusoidal embedding function - kept for reference\n",
        "    # def get_sinusoidal_embedding(self):\n",
        "    #     # Implementation of fixed position embeddings\n",
        "    #     pass"
      ],
      "metadata": {
        "id": "1Mcn9VBKt2Ly"
      },
      "execution_count": null,
      "outputs": []
    },
    {
      "cell_type": "markdown",
      "source": [
        "**Model loading function**"
      ],
      "metadata": {
        "id": "l3v4rAdLu6GN"
      }
    },
    {
      "cell_type": "code",
      "source": [
        "#  Model Loading Function\n",
        "def load_model(model_path):\n",
        "    try:\n",
        "        print(\"Loading model state dictionary...\")\n",
        "        # Load state dictionary - added weights_only to avoid optimizers\n",
        "        state_dict = torch.load(model_path, map_location=device, weights_only=True)\n",
        "\n",
        "        # Create a new model instance\n",
        "        vit = VisionTransformer(\n",
        "            img_size=32,  # CIFAR size\n",
        "            patch_size=4,  # 4x4 patches → 8x8 = 64 patches total\n",
        "            in_chans=3,\n",
        "            num_classes=10,\n",
        "            embed_dim=192,  # could be 384 for bigger models\n",
        "            depth=9,      # number of transformer blocks\n",
        "            num_heads=8,  # attention heads - must divide embed_dim evenly\n",
        "            mlp_ratio=4.0,  # multiplier for hidden dim in MLP\n",
        "            qkv_bias=True,  # helps training\n",
        "            drop_rate=0.0,  # no dropout for inference\n",
        "            attn_drop_rate=0.0\n",
        "        ).to(device)\n",
        "\n",
        "        # Check key names - sometimes need to adapt based on different exports\n",
        "        # model_keys = set(state_dict.keys())\n",
        "        # our_keys = set(vit.state_dict().keys())\n",
        "        # if model_keys != our_keys:\n",
        "        #     print(f\"Warning: Key mismatch. Missing: {our_keys - model_keys}\")\n",
        "\n",
        "        # Load the weights\n",
        "        vit.load_state_dict(state_dict)\n",
        "        vit.eval()  # IMPORTANT! Set to evaluation mode\n",
        "        print(\"Model loaded successfully!\")\n",
        "\n",
        "        # Could print model summary but torch.summary not in default install\n",
        "        # from torchsummary import summary\n",
        "        # summary(vit, (3, 32, 32))\n",
        "\n",
        "        return vit\n",
        "\n",
        "    except Exception as e:\n",
        "        print(f\"Error loading model: {e}\")\n",
        "        print(\"\\nIf you're getting key mismatches, here's some debug info:\")\n",
        "        print(\"For your uploaded model:\")\n",
        "        try:\n",
        "            state_dict = torch.load(model_path, map_location=device, weights_only=True)\n",
        "            # Just show a few keys to avoid flooding output\n",
        "            print(f\"Keys in your model: {list(state_dict.keys())[:5]}... (first 5 only)\")\n",
        "        except:\n",
        "            print(\"Could not load state dictionary to show keys.\")\n",
        "\n",
        "        print(\"\\nFor the inference model:\")\n",
        "        model = VisionTransformer()\n",
        "        print(f\"Keys expected: {list(model.state_dict().keys())[:5]}... (first 5 only)\")\n",
        "\n",
        "\n",
        "        return None"
      ],
      "metadata": {
        "id": "btAbCIlRt7Mh"
      },
      "execution_count": null,
      "outputs": []
    },
    {
      "cell_type": "markdown",
      "source": [
        "**Image preprocessing**"
      ],
      "metadata": {
        "id": "0KeiLq7gvA3-"
      }
    },
    {
      "cell_type": "code",
      "source": [
        "# Image Preprocessing Function\n",
        "def preprocess_image(image_data):\n",
        "    # Open image from uploaded bytes\n",
        "    img = Image.open(io.BytesIO(image_data)).convert('RGB')\n",
        "    orig_size = img.size\n",
        "    img_copy = img.copy()  # keep an unmodified copy\n",
        "\n",
        "    # CIFAR preprocessing - critical to match training!\n",
        "    # The normalization values are important - don't change\n",
        "    transform = transforms.Compose([\n",
        "        transforms.Resize((32, 32)),  # ViT needs fixed size\n",
        "        transforms.ToTensor(),\n",
        "        # CIFAR-10 mean/std - different from ImageNet values\n",
        "        transforms.Normalize((0.4914, 0.4822, 0.4465), (0.2470, 0.2435, 0.2616))\n",
        "    ])\n",
        "\n",
        "    # Convert to tensor and add batch dimension\n",
        "    img_tensor = transform(img).unsqueeze(0).to(device)\n",
        "\n",
        "    # Quick check for NaN values\n",
        "    if torch.isnan(img_tensor).any():\n",
        "        print(\"Warning: NaN values in processed image!\")\n",
        "\n",
        "    return img_tensor, img_copy, orig_size"
      ],
      "metadata": {
        "id": "1J9WmPZht-RE"
      },
      "execution_count": null,
      "outputs": []
    },
    {
      "cell_type": "markdown",
      "source": [
        "**Image classification**"
      ],
      "metadata": {
        "id": "RzAJ7eRfvE-F"
      }
    },
    {
      "cell_type": "code",
      "source": [
        "# Image Classification Function\n",
        "def classify_image(model, img_tensor):\n",
        "    # No gradient tracking needed for inference\n",
        "    with torch.no_grad():\n",
        "        # Forward pass through the model\n",
        "        logits, attn_weights = model(img_tensor)\n",
        "\n",
        "        # Optional logit range check\n",
        "        # print(f\"Logit range: {logits.min().item():.2f} to {logits.max().item():.2f}\")\n",
        "\n",
        "        # Convert to probabilities with softmax\n",
        "        probs = F.softmax(logits, dim=1)[0]\n",
        "\n",
        "        # Get top 3 predictions (could change to top-5 for more classes)\n",
        "        top3_probs, top3_idx = torch.topk(probs, 3)\n",
        "        # Convert to percentages\n",
        "        top3_probs = top3_probs.cpu().numpy() * 100\n",
        "        top3_classes = [CLASSES[idx] for idx in top3_idx.cpu().numpy()]\n",
        "\n",
        "    return top3_classes, top3_probs, attn_weights"
      ],
      "metadata": {
        "id": "39HUEP-NuAWX"
      },
      "execution_count": null,
      "outputs": []
    },
    {
      "cell_type": "markdown",
      "source": [
        "**Results visualization**"
      ],
      "metadata": {
        "id": "U5TpybzEvI56"
      }
    },
    {
      "cell_type": "code",
      "source": [
        "# Results Visualization Function\n",
        "def visualize_results(image, top_classes, top_probs):\n",
        "    plt.figure(figsize=(10, 5))\n",
        "\n",
        "    # Show image\n",
        "    plt.subplot(1, 2, 1)\n",
        "    plt.imshow(image)\n",
        "    plt.title(f\"Prediction: {top_classes[0]}\")\n",
        "    plt.axis('off')\n",
        "\n",
        "    # Show top 3 predictions\n",
        "    plt.subplot(1, 2, 2)\n",
        "    # First prediction in blue, others in gray\n",
        "    colors = ['#3498db', '#95a5a6', '#95a5a6']  # blue, gray, gray\n",
        "    bars = plt.barh(top_classes, top_probs, color=colors)\n",
        "    plt.xlim([0, 100])  # percentages from 0-100\n",
        "    plt.xlabel('Confidence (%)')\n",
        "    plt.title('Top 3 Predictions')\n",
        "\n",
        "    # Add confidence values as text\n",
        "    for bar, prob in zip(bars, top_probs):\n",
        "        plt.text(min(prob + 3, 95), bar.get_y() + bar.get_height()/2, f\"{prob:.1f}%\",\n",
        "                 va='center', fontweight='bold')\n",
        "\n",
        "    plt.tight_layout()\n",
        "    plt.show()"
      ],
      "metadata": {
        "id": "yrvlMhbLuCoU"
      },
      "execution_count": null,
      "outputs": []
    },
    {
      "cell_type": "markdown",
      "source": [
        "**Attention visualization**"
      ],
      "metadata": {
        "id": "6_Iko1S8vMrB"
      }
    },
    {
      "cell_type": "code",
      "source": [
        "# Attention Visualization Function\n",
        "def visualize_attention(model, image, attn_weights, original_size):\n",
        "    # Get attention from class token to patches\n",
        "    # Averaging over all attention heads for visualization\n",
        "    cls_attn = attn_weights[0, :, 0, 1:].mean(0).cpu().numpy()\n",
        "\n",
        "    # Originally had a for-loop going through each head\n",
        "    # but the averaged version is cleaner\n",
        "    # for head in range(attn_weights.shape[1]):\n",
        "    #     head_attn = attn_weights[0, head, 0, 1:].cpu().numpy()\n",
        "    #     # ... show each head separately\n",
        "\n",
        "    # Reshape to match image patches\n",
        "    patch_size = model.patch_size\n",
        "    num_patches_per_side = model.img_size // patch_size\n",
        "    attn_map = cls_attn.reshape(num_patches_per_side, num_patches_per_side)\n",
        "\n",
        "    # Tried bilinear upsampling but nearest neighbor works fine\n",
        "    # from skimage.transform import resize\n",
        "    # attn_map = resize(attn_map, (model.img_size, model.img_size), order=1)\n",
        "\n",
        "    # Upsample attention map to match image size - simple nearest neighbor\n",
        "    attn_map = np.repeat(np.repeat(attn_map, patch_size, axis=0), patch_size, axis=1)\n",
        "\n",
        "    # Display everything\n",
        "    plt.figure(figsize=(15, 5))\n",
        "\n",
        "    # Original image (resized to model input size)\n",
        "    plt.subplot(1, 3, 1)\n",
        "    plt.imshow(image.resize((32, 32)))\n",
        "    plt.title(\"Original Image\")\n",
        "    plt.axis('off')\n",
        "\n",
        "    # Attention heatmap\n",
        "    plt.subplot(1, 3, 2)\n",
        "    plt.imshow(attn_map, cmap='viridis')  # viridis is better than jet\n",
        "    plt.title(\"Attention Map\")\n",
        "    plt.axis('off')\n",
        "\n",
        "    # plt.colorbar(label='Attention')\n",
        "\n",
        "    # Overlay attention on image\n",
        "    plt.subplot(1, 3, 3)\n",
        "    plt.imshow(image.resize((32, 32)))\n",
        "    plt.imshow(attn_map, alpha=0.5, cmap='jet')  # jet works better for overlay\n",
        "    plt.title(\"Attention Overlay\")\n",
        "    plt.axis('off')\n",
        "\n",
        "    plt.tight_layout()\n",
        "    plt.show()"
      ],
      "metadata": {
        "id": "E8xYgTU-uEBr"
      },
      "execution_count": null,
      "outputs": []
    },
    {
      "cell_type": "markdown",
      "source": [
        "**Main inference function**"
      ],
      "metadata": {
        "id": "q6z4NTgHvRjQ"
      }
    },
    {
      "cell_type": "code",
      "source": [
        "# Main Inference Function\n",
        "def run_inference():\n",
        "    print(\"=== Vision Transformer Image Classification ===\")\n",
        "    print(\"Let's classify some images using a ViT model!\")\n",
        "\n",
        "    # Check for existing model or upload new one\n",
        "    model_path = 'vit_cifar10_best.pth'\n",
        "    if not os.path.exists(model_path):\n",
        "        print(\"\\n1. Please upload your trained ViT model file (.pth):\")\n",
        "        print(\"   (If you don't have one, try the sample model from the repo)\")\n",
        "        uploaded = files.upload()\n",
        "        if not uploaded:\n",
        "            print(\"No model was uploaded. Please run again.\")\n",
        "            return\n",
        "        model_path = list(uploaded.keys())[0]\n",
        "        print(f\"Using model: {model_path}\")\n",
        "\n",
        "    # Load the model\n",
        "    model = load_model(model_path)\n",
        "\n",
        "    if model is None:\n",
        "        print(\"\\nUnable to load model. If you're seeing key mismatches,\")\n",
        "        print(\"you might need to adjust the model architecture to match your checkpoint.\")\n",
        "        return\n",
        "\n",
        "    # Upload image\n",
        "    print(\"\\n2. Now upload an image to classify:\")\n",
        "    print(\"   (Try a picture of a car, plane, cat, or anything from CIFAR-10 classes)\")\n",
        "    uploaded = files.upload()\n",
        "\n",
        "    if not uploaded:\n",
        "        print(\"No image was uploaded. Please run again.\")\n",
        "        return\n",
        "\n",
        "    # Process each uploaded image\n",
        "    for filename, file_data in uploaded.items():\n",
        "        print(f\"\\nProcessing image: {filename}\")\n",
        "\n",
        "        # Preprocess image for the model\n",
        "        image_tensor, original_image, original_size = preprocess_image(file_data)\n",
        "\n",
        "        # Run classification\n",
        "        top_classes, top_probs, attn_weights = classify_image(model, image_tensor)\n",
        "\n",
        "        # Show results\n",
        "        print(f\"\\nResults:\")\n",
        "        print(f\"Top Prediction: {top_classes[0]} ({top_probs[0]:.1f}%)\")\n",
        "        print(f\"2nd Prediction: {top_classes[1]} ({top_probs[1]:.1f}%)\")\n",
        "        print(f\"3rd Prediction: {top_classes[2]} ({top_probs[2]:.1f}%)\")\n",
        "\n",
        "        # Add confidence interpretation\n",
        "        if top_probs[0] > 90:\n",
        "            print(\"Very confident prediction!\")\n",
        "        elif top_probs[0] > 70:\n",
        "            print(\"Fairly confident prediction.\")\n",
        "        else:\n",
        "            print(\"The model seems unsure - check the attention map for clues.\")\n",
        "\n",
        "        # Show the plots\n",
        "        visualize_results(original_image, top_classes, top_probs)\n",
        "\n",
        "        # Visualize attention\n",
        "        print(\"\\nVisualizing attention map (what the model focuses on):\")\n",
        "        visualize_attention(model, original_image, attn_weights, original_size)\n",
        "\n",
        "        print(\"\\nThe brightness in the attention map shows which parts of the image\")\n",
        "        print(\"influenced the model's decision most strongly.\")"
      ],
      "metadata": {
        "id": "96jB0tJUuFYv"
      },
      "execution_count": null,
      "outputs": []
    },
    {
      "cell_type": "markdown",
      "source": [
        "**Main Execution**"
      ],
      "metadata": {
        "id": "8smi96VKvXzp"
      }
    },
    {
      "cell_type": "code",
      "source": [
        "# Main Execution\n",
        "if __name__ == \"__main__\":\n",
        "    run_inference()"
      ],
      "metadata": {
        "colab": {
          "base_uri": "https://localhost:8080/",
          "height": 1000
        },
        "id": "ILNuQDKfuQDJ",
        "outputId": "6058e33a-79ff-4e20-8f95-712e890c8697"
      },
      "execution_count": null,
      "outputs": [
        {
          "output_type": "stream",
          "name": "stdout",
          "text": [
            "=== Vision Transformer Image Classification ===\n",
            "Let's classify some images using a ViT model!\n",
            "Loading model state dictionary...\n",
            "Model loaded successfully!\n",
            "\n",
            "2. Now upload an image to classify:\n",
            "   (Try a picture of a car, plane, cat, or anything from CIFAR-10 classes)\n"
          ]
        },
        {
          "output_type": "display_data",
          "data": {
            "text/plain": [
              "<IPython.core.display.HTML object>"
            ],
            "text/html": [
              "\n",
              "     <input type=\"file\" id=\"files-1a044c2b-da85-4b60-a73e-ed1b31fcef73\" name=\"files[]\" multiple disabled\n",
              "        style=\"border:none\" />\n",
              "     <output id=\"result-1a044c2b-da85-4b60-a73e-ed1b31fcef73\">\n",
              "      Upload widget is only available when the cell has been executed in the\n",
              "      current browser session. Please rerun this cell to enable.\n",
              "      </output>\n",
              "      <script>// Copyright 2017 Google LLC\n",
              "//\n",
              "// Licensed under the Apache License, Version 2.0 (the \"License\");\n",
              "// you may not use this file except in compliance with the License.\n",
              "// You may obtain a copy of the License at\n",
              "//\n",
              "//      http://www.apache.org/licenses/LICENSE-2.0\n",
              "//\n",
              "// Unless required by applicable law or agreed to in writing, software\n",
              "// distributed under the License is distributed on an \"AS IS\" BASIS,\n",
              "// WITHOUT WARRANTIES OR CONDITIONS OF ANY KIND, either express or implied.\n",
              "// See the License for the specific language governing permissions and\n",
              "// limitations under the License.\n",
              "\n",
              "/**\n",
              " * @fileoverview Helpers for google.colab Python module.\n",
              " */\n",
              "(function(scope) {\n",
              "function span(text, styleAttributes = {}) {\n",
              "  const element = document.createElement('span');\n",
              "  element.textContent = text;\n",
              "  for (const key of Object.keys(styleAttributes)) {\n",
              "    element.style[key] = styleAttributes[key];\n",
              "  }\n",
              "  return element;\n",
              "}\n",
              "\n",
              "// Max number of bytes which will be uploaded at a time.\n",
              "const MAX_PAYLOAD_SIZE = 100 * 1024;\n",
              "\n",
              "function _uploadFiles(inputId, outputId) {\n",
              "  const steps = uploadFilesStep(inputId, outputId);\n",
              "  const outputElement = document.getElementById(outputId);\n",
              "  // Cache steps on the outputElement to make it available for the next call\n",
              "  // to uploadFilesContinue from Python.\n",
              "  outputElement.steps = steps;\n",
              "\n",
              "  return _uploadFilesContinue(outputId);\n",
              "}\n",
              "\n",
              "// This is roughly an async generator (not supported in the browser yet),\n",
              "// where there are multiple asynchronous steps and the Python side is going\n",
              "// to poll for completion of each step.\n",
              "// This uses a Promise to block the python side on completion of each step,\n",
              "// then passes the result of the previous step as the input to the next step.\n",
              "function _uploadFilesContinue(outputId) {\n",
              "  const outputElement = document.getElementById(outputId);\n",
              "  const steps = outputElement.steps;\n",
              "\n",
              "  const next = steps.next(outputElement.lastPromiseValue);\n",
              "  return Promise.resolve(next.value.promise).then((value) => {\n",
              "    // Cache the last promise value to make it available to the next\n",
              "    // step of the generator.\n",
              "    outputElement.lastPromiseValue = value;\n",
              "    return next.value.response;\n",
              "  });\n",
              "}\n",
              "\n",
              "/**\n",
              " * Generator function which is called between each async step of the upload\n",
              " * process.\n",
              " * @param {string} inputId Element ID of the input file picker element.\n",
              " * @param {string} outputId Element ID of the output display.\n",
              " * @return {!Iterable<!Object>} Iterable of next steps.\n",
              " */\n",
              "function* uploadFilesStep(inputId, outputId) {\n",
              "  const inputElement = document.getElementById(inputId);\n",
              "  inputElement.disabled = false;\n",
              "\n",
              "  const outputElement = document.getElementById(outputId);\n",
              "  outputElement.innerHTML = '';\n",
              "\n",
              "  const pickedPromise = new Promise((resolve) => {\n",
              "    inputElement.addEventListener('change', (e) => {\n",
              "      resolve(e.target.files);\n",
              "    });\n",
              "  });\n",
              "\n",
              "  const cancel = document.createElement('button');\n",
              "  inputElement.parentElement.appendChild(cancel);\n",
              "  cancel.textContent = 'Cancel upload';\n",
              "  const cancelPromise = new Promise((resolve) => {\n",
              "    cancel.onclick = () => {\n",
              "      resolve(null);\n",
              "    };\n",
              "  });\n",
              "\n",
              "  // Wait for the user to pick the files.\n",
              "  const files = yield {\n",
              "    promise: Promise.race([pickedPromise, cancelPromise]),\n",
              "    response: {\n",
              "      action: 'starting',\n",
              "    }\n",
              "  };\n",
              "\n",
              "  cancel.remove();\n",
              "\n",
              "  // Disable the input element since further picks are not allowed.\n",
              "  inputElement.disabled = true;\n",
              "\n",
              "  if (!files) {\n",
              "    return {\n",
              "      response: {\n",
              "        action: 'complete',\n",
              "      }\n",
              "    };\n",
              "  }\n",
              "\n",
              "  for (const file of files) {\n",
              "    const li = document.createElement('li');\n",
              "    li.append(span(file.name, {fontWeight: 'bold'}));\n",
              "    li.append(span(\n",
              "        `(${file.type || 'n/a'}) - ${file.size} bytes, ` +\n",
              "        `last modified: ${\n",
              "            file.lastModifiedDate ? file.lastModifiedDate.toLocaleDateString() :\n",
              "                                    'n/a'} - `));\n",
              "    const percent = span('0% done');\n",
              "    li.appendChild(percent);\n",
              "\n",
              "    outputElement.appendChild(li);\n",
              "\n",
              "    const fileDataPromise = new Promise((resolve) => {\n",
              "      const reader = new FileReader();\n",
              "      reader.onload = (e) => {\n",
              "        resolve(e.target.result);\n",
              "      };\n",
              "      reader.readAsArrayBuffer(file);\n",
              "    });\n",
              "    // Wait for the data to be ready.\n",
              "    let fileData = yield {\n",
              "      promise: fileDataPromise,\n",
              "      response: {\n",
              "        action: 'continue',\n",
              "      }\n",
              "    };\n",
              "\n",
              "    // Use a chunked sending to avoid message size limits. See b/62115660.\n",
              "    let position = 0;\n",
              "    do {\n",
              "      const length = Math.min(fileData.byteLength - position, MAX_PAYLOAD_SIZE);\n",
              "      const chunk = new Uint8Array(fileData, position, length);\n",
              "      position += length;\n",
              "\n",
              "      const base64 = btoa(String.fromCharCode.apply(null, chunk));\n",
              "      yield {\n",
              "        response: {\n",
              "          action: 'append',\n",
              "          file: file.name,\n",
              "          data: base64,\n",
              "        },\n",
              "      };\n",
              "\n",
              "      let percentDone = fileData.byteLength === 0 ?\n",
              "          100 :\n",
              "          Math.round((position / fileData.byteLength) * 100);\n",
              "      percent.textContent = `${percentDone}% done`;\n",
              "\n",
              "    } while (position < fileData.byteLength);\n",
              "  }\n",
              "\n",
              "  // All done.\n",
              "  yield {\n",
              "    response: {\n",
              "      action: 'complete',\n",
              "    }\n",
              "  };\n",
              "}\n",
              "\n",
              "scope.google = scope.google || {};\n",
              "scope.google.colab = scope.google.colab || {};\n",
              "scope.google.colab._files = {\n",
              "  _uploadFiles,\n",
              "  _uploadFilesContinue,\n",
              "};\n",
              "})(self);\n",
              "</script> "
            ]
          },
          "metadata": {}
        },
        {
          "output_type": "stream",
          "name": "stdout",
          "text": [
            "Saving 3.jpeg to 3.jpeg\n",
            "\n",
            "Processing image: 3.jpeg\n",
            "\n",
            "Results:\n",
            "Top Prediction: dog (99.7%)\n",
            "2nd Prediction: deer (0.1%)\n",
            "3rd Prediction: bird (0.1%)\n",
            "Very confident prediction!\n"
          ]
        },
        {
          "output_type": "display_data",
          "data": {
            "text/plain": [
              "<Figure size 1000x500 with 2 Axes>"
            ],
            "image/png": "[encoded data removed]"
          },
          "metadata": {}
        },
        {
          "output_type": "stream",
          "name": "stdout",
          "text": [
            "\n",
            "Visualizing attention map (what the model focuses on):\n"
          ]
        },
        {
          "output_type": "display_data",
          "data": {
            "text/plain": [
              "<Figure size 1500x500 with 3 Axes>"
            ],
            "image/png": "[encoded data removed]"
          },
          "metadata": {}
        },
        {
          "output_type": "stream",
          "name": "stdout",
          "text": [
            "\n",
            "The brightness in the attention map shows which parts of the image\n",
            "influenced the model's decision most strongly.\n"
          ]
        }
      ]
    },
    {
      "cell_type": "code",
      "source": [],
      "metadata": {
        "id": "emtc5oegKDsC"
      },
      "execution_count": null,
      "outputs": []
    }
  ]
}